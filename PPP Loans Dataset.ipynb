{
 "cells": [
  {
   "cell_type": "markdown",
   "id": "d9f8f24b",
   "metadata": {},
   "source": [
    "# <center>PPP Loans</center>"
   ]
  },
  {
   "cell_type": "markdown",
   "id": "0458fb5c",
   "metadata": {},
   "source": [
    "A *paycheck protection program* is a Small Business Administration (SBA) backed loan that helps businesses keep their workforce employed during the COVID-19 pandemic."
   ]
  },
  {
   "cell_type": "markdown",
   "id": "b084f468",
   "metadata": {},
   "source": [
    "The PPP is designed to provide a direct incentive for small businesses to keep their workers on payroll.\n",
    "***"
   ]
  },
  {
   "cell_type": "markdown",
   "id": "6195ec3c",
   "metadata": {},
   "source": [
    "## Types of PPP"
   ]
  },
  {
   "cell_type": "markdown",
   "id": "aa85e154",
   "metadata": {},
   "source": [
    "####  First Draw PPP"
   ]
  },
  {
   "cell_type": "markdown",
   "id": "fbd10b34",
   "metadata": {},
   "source": [
    "* These can be used to help fund payroll costs, including benefits. Can be used to pay mortgage interest, rent, utilities, worker production costs, property damage, and supplier costs."
   ]
  },
  {
   "cell_type": "markdown",
   "id": "aa1bb0b1",
   "metadata": {},
   "source": [
    "* Borrowers can qualify for loan forgiveness if during the 8-24 week covered period following disbursement:\n",
    "    * employee/compensation levels are maintained\n",
    "    * loan proceeds are used on payroll costs and othe eligible\n",
    "      expenses\n",
    "    * 60% or more of the proceeds are spent on payroll costs"
   ]
  },
  {
   "cell_type": "markdown",
   "id": "ae1c2a27",
   "metadata": {},
   "source": [
    "#### Second Draw PPP"
   ]
  },
  {
   "cell_type": "markdown",
   "id": "17069ef6",
   "metadata": {},
   "source": [
    "* For those who have previously recieved a PPP loan. This has the same loan terms as the *first draw PPP*."
   ]
  },
  {
   "cell_type": "markdown",
   "id": "669e8d28",
   "metadata": {},
   "source": [
    "* The loan forgiveness qualiofications are the same as those listed in the *first draw PPP*.\n",
    "\n",
    "***"
   ]
  },
  {
   "cell_type": "markdown",
   "id": "871c17f7",
   "metadata": {},
   "source": [
    "# Fraud within PPP"
   ]
  },
  {
   "cell_type": "markdown",
   "id": "66747aff",
   "metadata": {},
   "source": [
    "* *PPP fraud* is the abuse of a loan program for the pruppsing of 'cushioning' the blow for millions of Americans."
   ]
  },
  {
   "cell_type": "markdown",
   "id": "929ee925",
   "metadata": {},
   "source": [
    "* We can also define it as when a business submits false information when filling out a PPP loan application or when attempting to certify PPP loan forgiveness."
   ]
  },
  {
   "cell_type": "markdown",
   "id": "bbd64cf8",
   "metadata": {},
   "source": [
    "## Ways to commit PPP fraud"
   ]
  },
  {
   "cell_type": "markdown",
   "id": "861f3704",
   "metadata": {},
   "source": [
    "Other than make false claims, ways to commit PPP fraud include:\n",
    "* Scammers commit *loan stacking* by applying from multiple lenders\n",
    "* Using the loan proceeds for improper or unapproved purposes\n",
    "* providing false statements during loan audits or fraud investigations"
   ]
  },
  {
   "cell_type": "markdown",
   "id": "0792b161",
   "metadata": {},
   "source": [
    "According to the SBA, the msot common types of loan fraud are:\n",
    "* **Loan agent fraud**:\n",
    "    * a borrower or lender pays a loan agent to prepare documentaion for a SBA loan application and refer the borrower to a lender. \n",
    "* **Borrower fraud**:\n",
    "    * they may intentionally provide false information to lending institutions during the application process."
   ]
  },
  {
   "cell_type": "markdown",
   "id": "c99e6501",
   "metadata": {},
   "source": [
    "Other ways to find fraud bsaed off data can be found here: https://www.linkedin.com/pulse/7-easy-ways-find-fraud-your-ppp-loan-portfolio-based-off-nichols\n",
    "\n",
    "***"
   ]
  },
  {
   "cell_type": "markdown",
   "id": "26360f14",
   "metadata": {},
   "source": [
    "#"
   ]
  },
  {
   "cell_type": "markdown",
   "id": "00d4f4c3",
   "metadata": {},
   "source": [
    "# <center>Using Neo4j to Load Data</center>"
   ]
  },
  {
   "cell_type": "markdown",
   "id": "5a94d1be",
   "metadata": {},
   "source": [
    "### Connect to the database"
   ]
  },
  {
   "cell_type": "code",
   "execution_count": 1,
   "id": "95e7c889",
   "metadata": {},
   "outputs": [
    {
     "data": {
      "text/html": [
       "<div>\n",
       "<style scoped>\n",
       "    .dataframe tbody tr th:only-of-type {\n",
       "        vertical-align: middle;\n",
       "    }\n",
       "\n",
       "    .dataframe tbody tr th {\n",
       "        vertical-align: top;\n",
       "    }\n",
       "\n",
       "    .dataframe thead th {\n",
       "        text-align: right;\n",
       "    }\n",
       "</style>\n",
       "<table border=\"1\" class=\"dataframe\">\n",
       "  <thead>\n",
       "    <tr style=\"text-align: right;\">\n",
       "      <th></th>\n",
       "      <th>id(n)</th>\n",
       "    </tr>\n",
       "  </thead>\n",
       "  <tbody>\n",
       "  </tbody>\n",
       "</table>\n",
       "</div>"
      ],
      "text/plain": [
       "Empty DataFrame\n",
       "Columns: [id(n)]\n",
       "Index: []"
      ]
     },
     "execution_count": 1,
     "metadata": {},
     "output_type": "execute_result"
    }
   ],
   "source": [
    "from neo4j import GraphDatabase\n",
    "from graphdatascience import GraphDataScience\n",
    "import pandas as pd\n",
    "\n",
    "uri = \"neo4j://20.242.190.214:7687\"\n",
    "user = \"neo4j\"\n",
    "password = \"neo4j101$\"\n",
    "\n",
    "gds = GraphDataScience(uri, auth=(user,password))\n",
    "gds.set_database(\"neo4j\")\n",
    "\n",
    "gds.run_cypher(\"\"\"\n",
    "\n",
    "MATCH (n) RETURN id(n)\n",
    "LIMIT 1\n",
    "\n",
    "\"\"\")"
   ]
  },
  {
   "cell_type": "markdown",
   "id": "3271c096",
   "metadata": {},
   "source": [
    "### Data Elements Available in CSV File"
   ]
  },
  {
   "cell_type": "code",
   "execution_count": null,
   "id": "37ff89a9",
   "metadata": {},
   "outputs": [],
   "source": [
    "gds.run_cypher(\"\"\"\n",
    "\n",
    "LOAD CSV WITH HEADERS from \"file:///PPP_Dataset.csv\" as row RETURN * LIMIT 1\n",
    "\n",
    "\"\"\")"
   ]
  },
  {
   "cell_type": "markdown",
   "id": "4a5fc165",
   "metadata": {},
   "source": [
    "#"
   ]
  },
  {
   "cell_type": "markdown",
   "id": "d1f0ed6b",
   "metadata": {},
   "source": [
    "# <center>Loading the Data</center>"
   ]
  },
  {
   "cell_type": "markdown",
   "id": "46237acd",
   "metadata": {},
   "source": [
    "### Borrower Nodes"
   ]
  },
  {
   "cell_type": "code",
   "execution_count": 2,
   "id": "480e2664",
   "metadata": {
    "collapsed": true
   },
   "outputs": [
    {
     "ename": "ClientError",
     "evalue": "{code: Neo.ClientError.Statement.ExternalResourceFailed} {message: Couldn't load the external resource at: file:/var/lib/neo4j/import/PPP_Dataset.csv (Transactions committed: 0)}",
     "output_type": "error",
     "traceback": [
      "\u001b[0;31m---------------------------------------------------------------------------\u001b[0m",
      "\u001b[0;31mClientError\u001b[0m                               Traceback (most recent call last)",
      "Cell \u001b[0;32mIn[2], line 1\u001b[0m\n\u001b[0;32m----> 1\u001b[0m \u001b[43mgds\u001b[49m\u001b[38;5;241;43m.\u001b[39;49m\u001b[43mrun_cypher\u001b[49m\u001b[43m(\u001b[49m\u001b[38;5;124;43mf\u001b[39;49m\u001b[38;5;124;43m\"\"\"\u001b[39;49m\n\u001b[1;32m      2\u001b[0m \n\u001b[1;32m      3\u001b[0m \u001b[38;5;124;43mLOAD CSV WITH HEADERS from \u001b[39;49m\u001b[38;5;124;43m\"\u001b[39;49m\u001b[38;5;124;43mfile:///PPP_Dataset.csv\u001b[39;49m\u001b[38;5;124;43m\"\u001b[39;49m\u001b[38;5;124;43m as row\u001b[39;49m\n\u001b[1;32m      4\u001b[0m \u001b[38;5;124;43mCALL \u001b[39;49m\u001b[38;5;130;43;01m{{\u001b[39;49;00m\n\u001b[1;32m      5\u001b[0m \u001b[38;5;124;43m    WITH row\u001b[39;49m\n\u001b[1;32m      6\u001b[0m \u001b[38;5;124;43m    CREATE (:Borrower \u001b[39;49m\u001b[38;5;130;43;01m{{\u001b[39;49;00m\u001b[38;5;124;43mBorrowerName: row.BorrowerName, RuralUrbanIndicator: row.RuralUrbanIndicator, BusinessAgeDescription: row.BusinessAgeDescription, JobsReported: row.JobsReported, NAICSCode: row.NAICSCode, Race: row.Race, PAYROLL_PROCEED: row.PAYROLL_PROCEED, MORTGAGE_INTEREST_PROCEED: row.MORTGAGE_INTEREST_PROCEED, RENT_PROCEED: row.RENT_PROCEED, BusinessType: row.BusinessType, Gender: row.Gender, Veteran: row.Veteran, NonProfit: row.NonProfit\u001b[39;49m\u001b[38;5;130;43;01m}}\u001b[39;49;00m\u001b[38;5;124;43m)\u001b[39;49m\n\u001b[1;32m      7\u001b[0m \u001b[38;5;130;43;01m}}\u001b[39;49;00m\u001b[38;5;124;43m IN TRANSACTIONS OF 10000 ROWS\u001b[39;49m\n\u001b[1;32m      8\u001b[0m \n\u001b[1;32m      9\u001b[0m \u001b[38;5;124;43m\"\"\"\u001b[39;49m\u001b[43m)\u001b[49m\n",
      "File \u001b[0;32m/Library/Frameworks/Python.framework/Versions/3.10/lib/python3.10/site-packages/graphdatascience/graph_data_science.py:146\u001b[0m, in \u001b[0;36mGraphDataScience.run_cypher\u001b[0;34m(self, query, params, database)\u001b[0m\n\u001b[1;32m    143\u001b[0m \u001b[38;5;28;01mif\u001b[39;00m \u001b[38;5;28misinstance\u001b[39m(\u001b[38;5;28mself\u001b[39m\u001b[38;5;241m.\u001b[39m_query_runner, ArrowQueryRunner):\n\u001b[1;32m    144\u001b[0m     qr \u001b[38;5;241m=\u001b[39m \u001b[38;5;28mself\u001b[39m\u001b[38;5;241m.\u001b[39m_query_runner\u001b[38;5;241m.\u001b[39mfallback_query_runner()\n\u001b[0;32m--> 146\u001b[0m \u001b[38;5;28;01mreturn\u001b[39;00m \u001b[43mqr\u001b[49m\u001b[38;5;241;43m.\u001b[39;49m\u001b[43mrun_query\u001b[49m\u001b[43m(\u001b[49m\u001b[43mquery\u001b[49m\u001b[43m,\u001b[49m\u001b[43m \u001b[49m\u001b[43mparams\u001b[49m\u001b[43m,\u001b[49m\u001b[43m \u001b[49m\u001b[43mdatabase\u001b[49m\u001b[43m)\u001b[49m\n",
      "File \u001b[0;32m/Library/Frameworks/Python.framework/Versions/3.10/lib/python3.10/site-packages/graphdatascience/query_runner/neo4j_query_runner.py:53\u001b[0m, in \u001b[0;36mNeo4jQueryRunner.run_query\u001b[0;34m(self, query, params, database)\u001b[0m\n\u001b[1;32m     44\u001b[0m     warnings\u001b[38;5;241m.\u001b[39mfilterwarnings(\n\u001b[1;32m     45\u001b[0m         \u001b[38;5;124m\"\u001b[39m\u001b[38;5;124mignore\u001b[39m\u001b[38;5;124m\"\u001b[39m,\n\u001b[1;32m     46\u001b[0m         message\u001b[38;5;241m=\u001b[39m\u001b[38;5;124mr\u001b[39m\u001b[38;5;124m\"\u001b[39m\u001b[38;5;124m^ssl.OP_NO_SSL\u001b[39m\u001b[38;5;124m\\\u001b[39m\u001b[38;5;124m*/ssl.OP_NO_TLS\u001b[39m\u001b[38;5;124m\\\u001b[39m\u001b[38;5;124m* options are deprecated$\u001b[39m\u001b[38;5;124m\"\u001b[39m,\n\u001b[1;32m     47\u001b[0m     )\n\u001b[1;32m     48\u001b[0m     warnings\u001b[38;5;241m.\u001b[39mfilterwarnings(\n\u001b[1;32m     49\u001b[0m         \u001b[38;5;124m\"\u001b[39m\u001b[38;5;124mignore\u001b[39m\u001b[38;5;124m\"\u001b[39m,\n\u001b[1;32m     50\u001b[0m         message\u001b[38;5;241m=\u001b[39m\u001b[38;5;124mr\u001b[39m\u001b[38;5;124m\"\u001b[39m\u001b[38;5;124m^`id` is deprecated, use `element_id` instead$\u001b[39m\u001b[38;5;124m\"\u001b[39m,\n\u001b[1;32m     51\u001b[0m     )\n\u001b[0;32m---> 53\u001b[0m result \u001b[38;5;241m=\u001b[39m \u001b[43msession\u001b[49m\u001b[38;5;241;43m.\u001b[39;49m\u001b[43mrun\u001b[49m\u001b[43m(\u001b[49m\u001b[43mquery\u001b[49m\u001b[43m,\u001b[49m\u001b[43m \u001b[49m\u001b[43mparams\u001b[49m\u001b[43m)\u001b[49m\n\u001b[1;32m     55\u001b[0m \u001b[38;5;66;03m# Though pandas support may be experimental in the `neo4j` package, it should always\u001b[39;00m\n\u001b[1;32m     56\u001b[0m \u001b[38;5;66;03m# be supported in the `graphdatascience` package.\u001b[39;00m\n\u001b[1;32m     57\u001b[0m warnings\u001b[38;5;241m.\u001b[39mfilterwarnings(\n\u001b[1;32m     58\u001b[0m     \u001b[38;5;124m\"\u001b[39m\u001b[38;5;124mignore\u001b[39m\u001b[38;5;124m\"\u001b[39m,\n\u001b[1;32m     59\u001b[0m     message\u001b[38;5;241m=\u001b[39m\u001b[38;5;124mr\u001b[39m\u001b[38;5;124m\"\u001b[39m\u001b[38;5;124m^pandas support is experimental and might be changed or removed in future versions$\u001b[39m\u001b[38;5;124m\"\u001b[39m,\n\u001b[1;32m     60\u001b[0m )\n",
      "File \u001b[0;32m/Library/Frameworks/Python.framework/Versions/3.10/lib/python3.10/site-packages/neo4j/_sync/work/session.py:289\u001b[0m, in \u001b[0;36mSession.run\u001b[0;34m(self, query, parameters, **kwargs)\u001b[0m\n\u001b[1;32m    287\u001b[0m bookmarks \u001b[38;5;241m=\u001b[39m \u001b[38;5;28mself\u001b[39m\u001b[38;5;241m.\u001b[39m_get_bookmarks()\n\u001b[1;32m    288\u001b[0m parameters \u001b[38;5;241m=\u001b[39m \u001b[38;5;28mdict\u001b[39m(parameters \u001b[38;5;129;01mor\u001b[39;00m {}, \u001b[38;5;241m*\u001b[39m\u001b[38;5;241m*\u001b[39mkwargs)\n\u001b[0;32m--> 289\u001b[0m \u001b[38;5;28;43mself\u001b[39;49m\u001b[38;5;241;43m.\u001b[39;49m\u001b[43m_auto_result\u001b[49m\u001b[38;5;241;43m.\u001b[39;49m\u001b[43m_run\u001b[49m\u001b[43m(\u001b[49m\n\u001b[1;32m    290\u001b[0m \u001b[43m    \u001b[49m\u001b[43mquery\u001b[49m\u001b[43m,\u001b[49m\u001b[43m \u001b[49m\u001b[43mparameters\u001b[49m\u001b[43m,\u001b[49m\u001b[43m \u001b[49m\u001b[38;5;28;43mself\u001b[39;49m\u001b[38;5;241;43m.\u001b[39;49m\u001b[43m_config\u001b[49m\u001b[38;5;241;43m.\u001b[39;49m\u001b[43mdatabase\u001b[49m\u001b[43m,\u001b[49m\n\u001b[1;32m    291\u001b[0m \u001b[43m    \u001b[49m\u001b[38;5;28;43mself\u001b[39;49m\u001b[38;5;241;43m.\u001b[39;49m\u001b[43m_config\u001b[49m\u001b[38;5;241;43m.\u001b[39;49m\u001b[43mimpersonated_user\u001b[49m\u001b[43m,\u001b[49m\u001b[43m \u001b[49m\u001b[38;5;28;43mself\u001b[39;49m\u001b[38;5;241;43m.\u001b[39;49m\u001b[43m_config\u001b[49m\u001b[38;5;241;43m.\u001b[39;49m\u001b[43mdefault_access_mode\u001b[49m\u001b[43m,\u001b[49m\n\u001b[1;32m    292\u001b[0m \u001b[43m    \u001b[49m\u001b[43mbookmarks\u001b[49m\n\u001b[1;32m    293\u001b[0m \u001b[43m\u001b[49m\u001b[43m)\u001b[49m\n\u001b[1;32m    295\u001b[0m \u001b[38;5;28;01mreturn\u001b[39;00m \u001b[38;5;28mself\u001b[39m\u001b[38;5;241m.\u001b[39m_auto_result\n",
      "File \u001b[0;32m/Library/Frameworks/Python.framework/Versions/3.10/lib/python3.10/site-packages/neo4j/_sync/work/result.py:166\u001b[0m, in \u001b[0;36mResult._run\u001b[0;34m(self, query, parameters, db, imp_user, access_mode, bookmarks)\u001b[0m\n\u001b[1;32m    164\u001b[0m \u001b[38;5;28mself\u001b[39m\u001b[38;5;241m.\u001b[39m_pull()\n\u001b[1;32m    165\u001b[0m \u001b[38;5;28mself\u001b[39m\u001b[38;5;241m.\u001b[39m_connection\u001b[38;5;241m.\u001b[39msend_all()\n\u001b[0;32m--> 166\u001b[0m \u001b[38;5;28;43mself\u001b[39;49m\u001b[38;5;241;43m.\u001b[39;49m\u001b[43m_attach\u001b[49m\u001b[43m(\u001b[49m\u001b[43m)\u001b[49m\n",
      "File \u001b[0;32m/Library/Frameworks/Python.framework/Versions/3.10/lib/python3.10/site-packages/neo4j/_sync/work/result.py:274\u001b[0m, in \u001b[0;36mResult._attach\u001b[0;34m(self)\u001b[0m\n\u001b[1;32m    272\u001b[0m \u001b[38;5;28;01mif\u001b[39;00m \u001b[38;5;28mself\u001b[39m\u001b[38;5;241m.\u001b[39m_exhausted \u001b[38;5;129;01mis\u001b[39;00m \u001b[38;5;28;01mFalse\u001b[39;00m:\n\u001b[1;32m    273\u001b[0m     \u001b[38;5;28;01mwhile\u001b[39;00m \u001b[38;5;28mself\u001b[39m\u001b[38;5;241m.\u001b[39m_attached \u001b[38;5;129;01mis\u001b[39;00m \u001b[38;5;28;01mFalse\u001b[39;00m:\n\u001b[0;32m--> 274\u001b[0m         \u001b[38;5;28;43mself\u001b[39;49m\u001b[38;5;241;43m.\u001b[39;49m\u001b[43m_connection\u001b[49m\u001b[38;5;241;43m.\u001b[39;49m\u001b[43mfetch_message\u001b[49m\u001b[43m(\u001b[49m\u001b[43m)\u001b[49m\n",
      "File \u001b[0;32m/Library/Frameworks/Python.framework/Versions/3.10/lib/python3.10/site-packages/neo4j/_sync/io/_common.py:180\u001b[0m, in \u001b[0;36mConnectionErrorHandler.__getattr__.<locals>.outer.<locals>.inner\u001b[0;34m(*args, **kwargs)\u001b[0m\n\u001b[1;32m    178\u001b[0m \u001b[38;5;28;01mdef\u001b[39;00m \u001b[38;5;21minner\u001b[39m(\u001b[38;5;241m*\u001b[39margs, \u001b[38;5;241m*\u001b[39m\u001b[38;5;241m*\u001b[39mkwargs):\n\u001b[1;32m    179\u001b[0m     \u001b[38;5;28;01mtry\u001b[39;00m:\n\u001b[0;32m--> 180\u001b[0m         \u001b[43mfunc\u001b[49m\u001b[43m(\u001b[49m\u001b[38;5;241;43m*\u001b[39;49m\u001b[43margs\u001b[49m\u001b[43m,\u001b[49m\u001b[43m \u001b[49m\u001b[38;5;241;43m*\u001b[39;49m\u001b[38;5;241;43m*\u001b[39;49m\u001b[43mkwargs\u001b[49m\u001b[43m)\u001b[49m\n\u001b[1;32m    181\u001b[0m     \u001b[38;5;28;01mexcept\u001b[39;00m (Neo4jError, ServiceUnavailable, SessionExpired) \u001b[38;5;28;01mas\u001b[39;00m exc:\n\u001b[1;32m    182\u001b[0m         \u001b[38;5;28;01massert\u001b[39;00m \u001b[38;5;129;01mnot\u001b[39;00m asyncio\u001b[38;5;241m.\u001b[39miscoroutinefunction(\u001b[38;5;28mself\u001b[39m\u001b[38;5;241m.\u001b[39m__on_error)\n",
      "File \u001b[0;32m/Library/Frameworks/Python.framework/Versions/3.10/lib/python3.10/site-packages/neo4j/_sync/io/_bolt.py:658\u001b[0m, in \u001b[0;36mBolt.fetch_message\u001b[0;34m(self)\u001b[0m\n\u001b[1;32m    654\u001b[0m \u001b[38;5;66;03m# Receive exactly one message\u001b[39;00m\n\u001b[1;32m    655\u001b[0m tag, fields \u001b[38;5;241m=\u001b[39m \u001b[38;5;28mself\u001b[39m\u001b[38;5;241m.\u001b[39minbox\u001b[38;5;241m.\u001b[39mpop(\n\u001b[1;32m    656\u001b[0m     hydration_hooks\u001b[38;5;241m=\u001b[39m\u001b[38;5;28mself\u001b[39m\u001b[38;5;241m.\u001b[39mresponses[\u001b[38;5;241m0\u001b[39m]\u001b[38;5;241m.\u001b[39mhydration_hooks\n\u001b[1;32m    657\u001b[0m )\n\u001b[0;32m--> 658\u001b[0m res \u001b[38;5;241m=\u001b[39m \u001b[38;5;28;43mself\u001b[39;49m\u001b[38;5;241;43m.\u001b[39;49m\u001b[43m_process_message\u001b[49m\u001b[43m(\u001b[49m\u001b[43mtag\u001b[49m\u001b[43m,\u001b[49m\u001b[43m \u001b[49m\u001b[43mfields\u001b[49m\u001b[43m)\u001b[49m\n\u001b[1;32m    659\u001b[0m \u001b[38;5;28mself\u001b[39m\u001b[38;5;241m.\u001b[39midle_since \u001b[38;5;241m=\u001b[39m perf_counter()\n\u001b[1;32m    660\u001b[0m \u001b[38;5;28;01mreturn\u001b[39;00m res\n",
      "File \u001b[0;32m/Library/Frameworks/Python.framework/Versions/3.10/lib/python3.10/site-packages/neo4j/_sync/io/_bolt5.py:317\u001b[0m, in \u001b[0;36mBolt5x0._process_message\u001b[0;34m(self, tag, fields)\u001b[0m\n\u001b[1;32m    315\u001b[0m \u001b[38;5;28mself\u001b[39m\u001b[38;5;241m.\u001b[39m_server_state_manager\u001b[38;5;241m.\u001b[39mstate \u001b[38;5;241m=\u001b[39m ServerStates\u001b[38;5;241m.\u001b[39mFAILED\n\u001b[1;32m    316\u001b[0m \u001b[38;5;28;01mtry\u001b[39;00m:\n\u001b[0;32m--> 317\u001b[0m     \u001b[43mresponse\u001b[49m\u001b[38;5;241;43m.\u001b[39;49m\u001b[43mon_failure\u001b[49m\u001b[43m(\u001b[49m\u001b[43msummary_metadata\u001b[49m\u001b[43m \u001b[49m\u001b[38;5;129;43;01mor\u001b[39;49;00m\u001b[43m \u001b[49m\u001b[43m{\u001b[49m\u001b[43m}\u001b[49m\u001b[43m)\u001b[49m\n\u001b[1;32m    318\u001b[0m \u001b[38;5;28;01mexcept\u001b[39;00m (ServiceUnavailable, DatabaseUnavailable):\n\u001b[1;32m    319\u001b[0m     \u001b[38;5;28;01mif\u001b[39;00m \u001b[38;5;28mself\u001b[39m\u001b[38;5;241m.\u001b[39mpool:\n",
      "File \u001b[0;32m/Library/Frameworks/Python.framework/Versions/3.10/lib/python3.10/site-packages/neo4j/_sync/io/_common.py:247\u001b[0m, in \u001b[0;36mResponse.on_failure\u001b[0;34m(self, metadata)\u001b[0m\n\u001b[1;32m    245\u001b[0m handler \u001b[38;5;241m=\u001b[39m \u001b[38;5;28mself\u001b[39m\u001b[38;5;241m.\u001b[39mhandlers\u001b[38;5;241m.\u001b[39mget(\u001b[38;5;124m\"\u001b[39m\u001b[38;5;124mon_summary\u001b[39m\u001b[38;5;124m\"\u001b[39m)\n\u001b[1;32m    246\u001b[0m Util\u001b[38;5;241m.\u001b[39mcallback(handler)\n\u001b[0;32m--> 247\u001b[0m \u001b[38;5;28;01mraise\u001b[39;00m Neo4jError\u001b[38;5;241m.\u001b[39mhydrate(\u001b[38;5;241m*\u001b[39m\u001b[38;5;241m*\u001b[39mmetadata)\n",
      "\u001b[0;31mClientError\u001b[0m: {code: Neo.ClientError.Statement.ExternalResourceFailed} {message: Couldn't load the external resource at: file:/var/lib/neo4j/import/PPP_Dataset.csv (Transactions committed: 0)}"
     ]
    }
   ],
   "source": [
    "gds.run_cypher(f\"\"\"\n",
    "\n",
    "LOAD CSV WITH HEADERS from \"file:///PPP_Dataset.csv\" as row\n",
    "CALL {{\n",
    "    WITH row\n",
    "    CREATE (:Borrower {{BorrowerName: row.BorrowerName, RuralUrbanIndicator: row.RuralUrbanIndicator, BusinessAgeDescription: row.BusinessAgeDescription, JobsReported: row.JobsReported, NAICSCode: row.NAICSCode, Race: row.Race, PAYROLL_PROCEED: row.PAYROLL_PROCEED, MORTGAGE_INTEREST_PROCEED: row.MORTGAGE_INTEREST_PROCEED, RENT_PROCEED: row.RENT_PROCEED, BusinessType: row.BusinessType, Gender: row.Gender, Veteran: row.Veteran, NonProfit: row.NonProfit}})\n",
    "}} IN TRANSACTIONS OF 10000 ROWS\n",
    "\n",
    "\"\"\")"
   ]
  },
  {
   "cell_type": "markdown",
   "id": "7c87338b",
   "metadata": {},
   "source": [
    "### Loan Nodes"
   ]
  },
  {
   "cell_type": "code",
   "execution_count": null,
   "id": "620af79b",
   "metadata": {
    "scrolled": true
   },
   "outputs": [],
   "source": [
    "gds.run_cypher(f\"\"\"\n",
    "\n",
    "LOAD CSV WITH HEADERS from \"file:///PPP_Dataset.csv\" as row\n",
    "CALL {{\n",
    "    WITH row\n",
    "    MERGE (:Loan {{LoanNumber: toInteger(row.LoanNumber), CurrentApprovalAmount: toFloat(row.CurrentApprovalAmount), LoanStatus: row.LoanStatus, InitialApprovalAmount: toFloat(row.InitialApprovalAmount), Loan_Outstanding_Am: toFloat(row.Loan_Outstanding_Am), ForgivenessAmount: toFloat(row.ForgivenessAmount)}})\n",
    "}} IN TRANSACTIONS OF 10000 ROWS\n",
    "\n",
    "\"\"\")"
   ]
  },
  {
   "cell_type": "markdown",
   "id": "91428ade",
   "metadata": {},
   "source": [
    "### Project Nodes"
   ]
  },
  {
   "cell_type": "code",
   "execution_count": null,
   "id": "2d4eb1c8",
   "metadata": {},
   "outputs": [],
   "source": [
    "gds.run_cypher(f\"\"\"\n",
    "\n",
    "LOAD CSV WITH HEADERS from \"file:///PPP_Dataset.csv\" as row\n",
    "CALL {{\n",
    "    WITH row\n",
    "    CREATE (:Project {{ProjectCity: row.ProjectCity, ProjectCountyName: row.ProjectCountyName, ProjectState: row.ProjectState, ProjectZip: toInteger(row.ProjectZip)}})\n",
    "}} IN TRANSACTIONS OF 10000 ROWS\n",
    "\n",
    "\"\"\")"
   ]
  },
  {
   "cell_type": "markdown",
   "id": "a67cdc6b",
   "metadata": {},
   "source": [
    "### Proceeds Nodes"
   ]
  },
  {
   "cell_type": "code",
   "execution_count": 6,
   "id": "428fd7c1",
   "metadata": {
    "collapsed": true
   },
   "outputs": [
    {
     "name": "stderr",
     "output_type": "stream",
     "text": [
      "Failed to read from defunct connection ResolvedIPv4Address(('20.242.190.214', 7687)) (IPv4Address(('20.242.190.214', 7687)))\n",
      "Unable to retrieve routing information\n"
     ]
    },
    {
     "ename": "ServiceUnavailable",
     "evalue": "Unable to retrieve routing information",
     "output_type": "error",
     "traceback": [
      "\u001b[0;31m---------------------------------------------------------------------------\u001b[0m",
      "\u001b[0;31mServiceUnavailable\u001b[0m                        Traceback (most recent call last)",
      "Cell \u001b[0;32mIn[6], line 1\u001b[0m\n\u001b[0;32m----> 1\u001b[0m \u001b[43mgds\u001b[49m\u001b[38;5;241;43m.\u001b[39;49m\u001b[43mrun_cypher\u001b[49m\u001b[43m(\u001b[49m\u001b[38;5;124;43mf\u001b[39;49m\u001b[38;5;124;43m\"\"\"\u001b[39;49m\n\u001b[1;32m      2\u001b[0m \n\u001b[1;32m      3\u001b[0m \u001b[38;5;124;43mLOAD CSV WITH HEADERS from \u001b[39;49m\u001b[38;5;124;43m\"\u001b[39;49m\u001b[38;5;124;43mfile:///PPP_Dataset.csv\u001b[39;49m\u001b[38;5;124;43m\"\u001b[39;49m\u001b[38;5;124;43m as row\u001b[39;49m\n\u001b[1;32m      4\u001b[0m \n\u001b[1;32m      5\u001b[0m \u001b[38;5;124;43m\"\"\"\u001b[39;49m\u001b[43m)\u001b[49m\n",
      "File \u001b[0;32m/Library/Frameworks/Python.framework/Versions/3.10/lib/python3.10/site-packages/graphdatascience/graph_data_science.py:146\u001b[0m, in \u001b[0;36mGraphDataScience.run_cypher\u001b[0;34m(self, query, params, database)\u001b[0m\n\u001b[1;32m    143\u001b[0m \u001b[38;5;28;01mif\u001b[39;00m \u001b[38;5;28misinstance\u001b[39m(\u001b[38;5;28mself\u001b[39m\u001b[38;5;241m.\u001b[39m_query_runner, ArrowQueryRunner):\n\u001b[1;32m    144\u001b[0m     qr \u001b[38;5;241m=\u001b[39m \u001b[38;5;28mself\u001b[39m\u001b[38;5;241m.\u001b[39m_query_runner\u001b[38;5;241m.\u001b[39mfallback_query_runner()\n\u001b[0;32m--> 146\u001b[0m \u001b[38;5;28;01mreturn\u001b[39;00m \u001b[43mqr\u001b[49m\u001b[38;5;241;43m.\u001b[39;49m\u001b[43mrun_query\u001b[49m\u001b[43m(\u001b[49m\u001b[43mquery\u001b[49m\u001b[43m,\u001b[49m\u001b[43m \u001b[49m\u001b[43mparams\u001b[49m\u001b[43m,\u001b[49m\u001b[43m \u001b[49m\u001b[43mdatabase\u001b[49m\u001b[43m)\u001b[49m\n",
      "File \u001b[0;32m/Library/Frameworks/Python.framework/Versions/3.10/lib/python3.10/site-packages/graphdatascience/query_runner/neo4j_query_runner.py:53\u001b[0m, in \u001b[0;36mNeo4jQueryRunner.run_query\u001b[0;34m(self, query, params, database)\u001b[0m\n\u001b[1;32m     44\u001b[0m     warnings\u001b[38;5;241m.\u001b[39mfilterwarnings(\n\u001b[1;32m     45\u001b[0m         \u001b[38;5;124m\"\u001b[39m\u001b[38;5;124mignore\u001b[39m\u001b[38;5;124m\"\u001b[39m,\n\u001b[1;32m     46\u001b[0m         message\u001b[38;5;241m=\u001b[39m\u001b[38;5;124mr\u001b[39m\u001b[38;5;124m\"\u001b[39m\u001b[38;5;124m^ssl.OP_NO_SSL\u001b[39m\u001b[38;5;124m\\\u001b[39m\u001b[38;5;124m*/ssl.OP_NO_TLS\u001b[39m\u001b[38;5;124m\\\u001b[39m\u001b[38;5;124m* options are deprecated$\u001b[39m\u001b[38;5;124m\"\u001b[39m,\n\u001b[1;32m     47\u001b[0m     )\n\u001b[1;32m     48\u001b[0m     warnings\u001b[38;5;241m.\u001b[39mfilterwarnings(\n\u001b[1;32m     49\u001b[0m         \u001b[38;5;124m\"\u001b[39m\u001b[38;5;124mignore\u001b[39m\u001b[38;5;124m\"\u001b[39m,\n\u001b[1;32m     50\u001b[0m         message\u001b[38;5;241m=\u001b[39m\u001b[38;5;124mr\u001b[39m\u001b[38;5;124m\"\u001b[39m\u001b[38;5;124m^`id` is deprecated, use `element_id` instead$\u001b[39m\u001b[38;5;124m\"\u001b[39m,\n\u001b[1;32m     51\u001b[0m     )\n\u001b[0;32m---> 53\u001b[0m result \u001b[38;5;241m=\u001b[39m \u001b[43msession\u001b[49m\u001b[38;5;241;43m.\u001b[39;49m\u001b[43mrun\u001b[49m\u001b[43m(\u001b[49m\u001b[43mquery\u001b[49m\u001b[43m,\u001b[49m\u001b[43m \u001b[49m\u001b[43mparams\u001b[49m\u001b[43m)\u001b[49m\n\u001b[1;32m     55\u001b[0m \u001b[38;5;66;03m# Though pandas support may be experimental in the `neo4j` package, it should always\u001b[39;00m\n\u001b[1;32m     56\u001b[0m \u001b[38;5;66;03m# be supported in the `graphdatascience` package.\u001b[39;00m\n\u001b[1;32m     57\u001b[0m warnings\u001b[38;5;241m.\u001b[39mfilterwarnings(\n\u001b[1;32m     58\u001b[0m     \u001b[38;5;124m\"\u001b[39m\u001b[38;5;124mignore\u001b[39m\u001b[38;5;124m\"\u001b[39m,\n\u001b[1;32m     59\u001b[0m     message\u001b[38;5;241m=\u001b[39m\u001b[38;5;124mr\u001b[39m\u001b[38;5;124m\"\u001b[39m\u001b[38;5;124m^pandas support is experimental and might be changed or removed in future versions$\u001b[39m\u001b[38;5;124m\"\u001b[39m,\n\u001b[1;32m     60\u001b[0m )\n",
      "File \u001b[0;32m/Library/Frameworks/Python.framework/Versions/3.10/lib/python3.10/site-packages/neo4j/_sync/work/session.py:280\u001b[0m, in \u001b[0;36mSession.run\u001b[0;34m(self, query, parameters, **kwargs)\u001b[0m\n\u001b[1;32m    277\u001b[0m     \u001b[38;5;28mself\u001b[39m\u001b[38;5;241m.\u001b[39m_auto_result\u001b[38;5;241m.\u001b[39m_buffer_all()\n\u001b[1;32m    279\u001b[0m \u001b[38;5;28;01mif\u001b[39;00m \u001b[38;5;129;01mnot\u001b[39;00m \u001b[38;5;28mself\u001b[39m\u001b[38;5;241m.\u001b[39m_connection:\n\u001b[0;32m--> 280\u001b[0m     \u001b[38;5;28;43mself\u001b[39;49m\u001b[38;5;241;43m.\u001b[39;49m\u001b[43m_connect\u001b[49m\u001b[43m(\u001b[49m\u001b[38;5;28;43mself\u001b[39;49m\u001b[38;5;241;43m.\u001b[39;49m\u001b[43m_config\u001b[49m\u001b[38;5;241;43m.\u001b[39;49m\u001b[43mdefault_access_mode\u001b[49m\u001b[43m)\u001b[49m\n\u001b[1;32m    281\u001b[0m cx \u001b[38;5;241m=\u001b[39m \u001b[38;5;28mself\u001b[39m\u001b[38;5;241m.\u001b[39m_connection\n\u001b[1;32m    283\u001b[0m \u001b[38;5;28mself\u001b[39m\u001b[38;5;241m.\u001b[39m_auto_result \u001b[38;5;241m=\u001b[39m Result(\n\u001b[1;32m    284\u001b[0m     cx, \u001b[38;5;28mself\u001b[39m\u001b[38;5;241m.\u001b[39m_config\u001b[38;5;241m.\u001b[39mfetch_size, \u001b[38;5;28mself\u001b[39m\u001b[38;5;241m.\u001b[39m_result_closed,\n\u001b[1;32m    285\u001b[0m     \u001b[38;5;28mself\u001b[39m\u001b[38;5;241m.\u001b[39m_result_error\n\u001b[1;32m    286\u001b[0m )\n",
      "File \u001b[0;32m/Library/Frameworks/Python.framework/Versions/3.10/lib/python3.10/site-packages/neo4j/_sync/work/session.py:120\u001b[0m, in \u001b[0;36mSession._connect\u001b[0;34m(self, access_mode, **access_kwargs)\u001b[0m\n\u001b[1;32m    118\u001b[0m     access_mode \u001b[38;5;241m=\u001b[39m \u001b[38;5;28mself\u001b[39m\u001b[38;5;241m.\u001b[39m_config\u001b[38;5;241m.\u001b[39mdefault_access_mode\n\u001b[1;32m    119\u001b[0m \u001b[38;5;28;01mtry\u001b[39;00m:\n\u001b[0;32m--> 120\u001b[0m     \u001b[38;5;28;43msuper\u001b[39;49m\u001b[43m(\u001b[49m\u001b[43m)\u001b[49m\u001b[38;5;241;43m.\u001b[39;49m\u001b[43m_connect\u001b[49m\u001b[43m(\u001b[49m\u001b[43maccess_mode\u001b[49m\u001b[43m,\u001b[49m\u001b[43m \u001b[49m\u001b[38;5;241;43m*\u001b[39;49m\u001b[38;5;241;43m*\u001b[39;49m\u001b[43maccess_kwargs\u001b[49m\u001b[43m)\u001b[49m\n\u001b[1;32m    121\u001b[0m \u001b[38;5;28;01mexcept\u001b[39;00m asyncio\u001b[38;5;241m.\u001b[39mCancelledError:\n\u001b[1;32m    122\u001b[0m     \u001b[38;5;28mself\u001b[39m\u001b[38;5;241m.\u001b[39m_handle_cancellation(message\u001b[38;5;241m=\u001b[39m\u001b[38;5;124m\"\u001b[39m\u001b[38;5;124m_connect\u001b[39m\u001b[38;5;124m\"\u001b[39m)\n",
      "File \u001b[0;32m/Library/Frameworks/Python.framework/Versions/3.10/lib/python3.10/site-packages/neo4j/_sync/work/workspace.py:168\u001b[0m, in \u001b[0;36mWorkspace._connect\u001b[0;34m(self, access_mode, **acquire_kwargs)\u001b[0m\n\u001b[1;32m    160\u001b[0m acquire_kwargs_ \u001b[38;5;241m=\u001b[39m {\n\u001b[1;32m    161\u001b[0m     \u001b[38;5;124m\"\u001b[39m\u001b[38;5;124maccess_mode\u001b[39m\u001b[38;5;124m\"\u001b[39m: access_mode,\n\u001b[1;32m    162\u001b[0m     \u001b[38;5;124m\"\u001b[39m\u001b[38;5;124mtimeout\u001b[39m\u001b[38;5;124m\"\u001b[39m: acquisition_timeout,\n\u001b[0;32m   (...)\u001b[0m\n\u001b[1;32m    165\u001b[0m     \u001b[38;5;124m\"\u001b[39m\u001b[38;5;124mliveness_check_timeout\u001b[39m\u001b[38;5;124m\"\u001b[39m: \u001b[38;5;28;01mNone\u001b[39;00m,\n\u001b[1;32m    166\u001b[0m }\n\u001b[1;32m    167\u001b[0m acquire_kwargs_\u001b[38;5;241m.\u001b[39mupdate(acquire_kwargs)\n\u001b[0;32m--> 168\u001b[0m \u001b[38;5;28mself\u001b[39m\u001b[38;5;241m.\u001b[39m_connection \u001b[38;5;241m=\u001b[39m \u001b[38;5;28;43mself\u001b[39;49m\u001b[38;5;241;43m.\u001b[39;49m\u001b[43m_pool\u001b[49m\u001b[38;5;241;43m.\u001b[39;49m\u001b[43macquire\u001b[49m\u001b[43m(\u001b[49m\u001b[38;5;241;43m*\u001b[39;49m\u001b[38;5;241;43m*\u001b[39;49m\u001b[43macquire_kwargs_\u001b[49m\u001b[43m)\u001b[49m\n\u001b[1;32m    169\u001b[0m \u001b[38;5;28mself\u001b[39m\u001b[38;5;241m.\u001b[39m_connection_access_mode \u001b[38;5;241m=\u001b[39m access_mode\n",
      "File \u001b[0;32m/Library/Frameworks/Python.framework/Versions/3.10/lib/python3.10/site-packages/neo4j/_sync/io/_pool.py:778\u001b[0m, in \u001b[0;36mNeo4jPool.acquire\u001b[0;34m(self, access_mode, timeout, database, bookmarks, liveness_check_timeout)\u001b[0m\n\u001b[1;32m    771\u001b[0m \u001b[38;5;66;03m#     await self.ensure_routing_table_is_fresh(\u001b[39;00m\n\u001b[1;32m    772\u001b[0m \u001b[38;5;66;03m#         access_mode=access_mode, database=database, imp_user=None,\u001b[39;00m\n\u001b[1;32m    773\u001b[0m \u001b[38;5;66;03m#         bookmarks=bookmarks, acquisition_timeout=timeout\u001b[39;00m\n\u001b[1;32m    774\u001b[0m \u001b[38;5;66;03m#     )\u001b[39;00m\n\u001b[1;32m    776\u001b[0m log\u001b[38;5;241m.\u001b[39mdebug(\u001b[38;5;124m\"\u001b[39m\u001b[38;5;124m[#0000]  _: <POOL> acquire routing connection, \u001b[39m\u001b[38;5;124m\"\u001b[39m\n\u001b[1;32m    777\u001b[0m           \u001b[38;5;124m\"\u001b[39m\u001b[38;5;124maccess_mode=\u001b[39m\u001b[38;5;132;01m%r\u001b[39;00m\u001b[38;5;124m, database=\u001b[39m\u001b[38;5;132;01m%r\u001b[39;00m\u001b[38;5;124m\"\u001b[39m, access_mode, database)\n\u001b[0;32m--> 778\u001b[0m \u001b[38;5;28;43mself\u001b[39;49m\u001b[38;5;241;43m.\u001b[39;49m\u001b[43mensure_routing_table_is_fresh\u001b[49m\u001b[43m(\u001b[49m\n\u001b[1;32m    779\u001b[0m \u001b[43m    \u001b[49m\u001b[43maccess_mode\u001b[49m\u001b[38;5;241;43m=\u001b[39;49m\u001b[43maccess_mode\u001b[49m\u001b[43m,\u001b[49m\u001b[43m \u001b[49m\u001b[43mdatabase\u001b[49m\u001b[38;5;241;43m=\u001b[39;49m\u001b[43mdatabase\u001b[49m\u001b[43m,\u001b[49m\n\u001b[1;32m    780\u001b[0m \u001b[43m    \u001b[49m\u001b[43mimp_user\u001b[49m\u001b[38;5;241;43m=\u001b[39;49m\u001b[38;5;28;43;01mNone\u001b[39;49;00m\u001b[43m,\u001b[49m\u001b[43m \u001b[49m\u001b[43mbookmarks\u001b[49m\u001b[38;5;241;43m=\u001b[39;49m\u001b[43mbookmarks\u001b[49m\u001b[43m,\u001b[49m\n\u001b[1;32m    781\u001b[0m \u001b[43m    \u001b[49m\u001b[43macquisition_timeout\u001b[49m\u001b[38;5;241;43m=\u001b[39;49m\u001b[43mtimeout\u001b[49m\n\u001b[1;32m    782\u001b[0m \u001b[43m\u001b[49m\u001b[43m)\u001b[49m\n\u001b[1;32m    784\u001b[0m \u001b[38;5;28;01mwhile\u001b[39;00m \u001b[38;5;28;01mTrue\u001b[39;00m:\n\u001b[1;32m    785\u001b[0m     \u001b[38;5;28;01mtry\u001b[39;00m:\n\u001b[1;32m    786\u001b[0m         \u001b[38;5;66;03m# Get an address for a connection that have the fewest in-use\u001b[39;00m\n\u001b[1;32m    787\u001b[0m         \u001b[38;5;66;03m# connections.\u001b[39;00m\n",
      "File \u001b[0;32m/Library/Frameworks/Python.framework/Versions/3.10/lib/python3.10/site-packages/neo4j/_sync/io/_pool.py:721\u001b[0m, in \u001b[0;36mNeo4jPool.ensure_routing_table_is_fresh\u001b[0;34m(self, access_mode, database, imp_user, bookmarks, acquisition_timeout, database_callback)\u001b[0m\n\u001b[1;32m    717\u001b[0m     log\u001b[38;5;241m.\u001b[39mdebug(\u001b[38;5;124m\"\u001b[39m\u001b[38;5;124m[#0000]  _: <POOL> using existing routing table \u001b[39m\u001b[38;5;132;01m%r\u001b[39;00m\u001b[38;5;124m\"\u001b[39m,\n\u001b[1;32m    718\u001b[0m               routing_table)\n\u001b[1;32m    719\u001b[0m     \u001b[38;5;28;01mreturn\u001b[39;00m \u001b[38;5;28;01mFalse\u001b[39;00m\n\u001b[0;32m--> 721\u001b[0m \u001b[38;5;28;43mself\u001b[39;49m\u001b[38;5;241;43m.\u001b[39;49m\u001b[43mupdate_routing_table\u001b[49m\u001b[43m(\u001b[49m\n\u001b[1;32m    722\u001b[0m \u001b[43m    \u001b[49m\u001b[43mdatabase\u001b[49m\u001b[38;5;241;43m=\u001b[39;49m\u001b[43mdatabase\u001b[49m\u001b[43m,\u001b[49m\u001b[43m \u001b[49m\u001b[43mimp_user\u001b[49m\u001b[38;5;241;43m=\u001b[39;49m\u001b[43mimp_user\u001b[49m\u001b[43m,\u001b[49m\u001b[43m \u001b[49m\u001b[43mbookmarks\u001b[49m\u001b[38;5;241;43m=\u001b[39;49m\u001b[43mbookmarks\u001b[49m\u001b[43m,\u001b[49m\n\u001b[1;32m    723\u001b[0m \u001b[43m    \u001b[49m\u001b[43macquisition_timeout\u001b[49m\u001b[38;5;241;43m=\u001b[39;49m\u001b[43macquisition_timeout\u001b[49m\u001b[43m,\u001b[49m\n\u001b[1;32m    724\u001b[0m \u001b[43m    \u001b[49m\u001b[43mdatabase_callback\u001b[49m\u001b[38;5;241;43m=\u001b[39;49m\u001b[43mdatabase_callback\u001b[49m\n\u001b[1;32m    725\u001b[0m \u001b[43m\u001b[49m\u001b[43m)\u001b[49m\n\u001b[1;32m    726\u001b[0m \u001b[38;5;28mself\u001b[39m\u001b[38;5;241m.\u001b[39mupdate_connection_pool(database\u001b[38;5;241m=\u001b[39mdatabase)\n\u001b[1;32m    728\u001b[0m \u001b[38;5;28;01mreturn\u001b[39;00m \u001b[38;5;28;01mTrue\u001b[39;00m\n",
      "File \u001b[0;32m/Library/Frameworks/Python.framework/Versions/3.10/lib/python3.10/site-packages/neo4j/_sync/io/_pool.py:676\u001b[0m, in \u001b[0;36mNeo4jPool.update_routing_table\u001b[0;34m(self, database, imp_user, bookmarks, acquisition_timeout, database_callback)\u001b[0m\n\u001b[1;32m    674\u001b[0m \u001b[38;5;66;03m# None of the routers have been successful, so just fail\u001b[39;00m\n\u001b[1;32m    675\u001b[0m log\u001b[38;5;241m.\u001b[39merror(\u001b[38;5;124m\"\u001b[39m\u001b[38;5;124mUnable to retrieve routing information\u001b[39m\u001b[38;5;124m\"\u001b[39m)\n\u001b[0;32m--> 676\u001b[0m \u001b[38;5;28;01mraise\u001b[39;00m ServiceUnavailable(\u001b[38;5;124m\"\u001b[39m\u001b[38;5;124mUnable to retrieve routing information\u001b[39m\u001b[38;5;124m\"\u001b[39m)\n",
      "\u001b[0;31mServiceUnavailable\u001b[0m: Unable to retrieve routing information"
     ]
    }
   ],
   "source": [
    "gds.run_cypher(f\"\"\"\n",
    "\n",
    "LOAD CSV WITH HEADERS from \"file:///PPP_Dataset.csv\" as row\n",
    "CALL {{\n",
    "    WITH row\n",
    "    CREATE(:Proceeds {{utilities: row.utilities, payroll: row.payroll, mortgageInterest: row.mortgageInterest, rent: row.rent, refinanceEidl: row.refinanceEidl, healthCare: row.healthCare, debtInterest: row.debtInterest}})\n",
    "}} IN TRANSACTIONS OF 10000 ROWS\n",
    "\n",
    "\"\"\")"
   ]
  },
  {
   "cell_type": "markdown",
   "id": "38fe103e",
   "metadata": {},
   "source": [
    "### LoanStatus Nodes"
   ]
  },
  {
   "cell_type": "code",
   "execution_count": null,
   "id": "28be58fa",
   "metadata": {},
   "outputs": [],
   "source": [
    "gds.run_cypher(f\"\"\"\n",
    "\n",
    "LOAD CSV WITH HEADERS from \"file:///PPP_Dataset.csv\" as row\n",
    "CALL {{\n",
    "\n",
    "WITH row\n",
    "\n",
    "CREATE(:LoanStatus {{date: date(row.date), exempt: toBoolean(row.exempt), PaidInFull: toBoolean(row.PaidInFull), chargedOff: toBoolean(row.chargedOff)}})\n",
    "\n",
    "}} IN TRANSACTIONS OF 10000 ROWS\n",
    "\n",
    "\"\"\")"
   ]
  },
  {
   "cell_type": "markdown",
   "id": "585b1ca6",
   "metadata": {},
   "source": [
    "### Lender Servicing Nodes"
   ]
  },
  {
   "cell_type": "code",
   "execution_count": null,
   "id": "d982780a",
   "metadata": {},
   "outputs": [],
   "source": [
    "gds.run_cypher(f\"\"\"\n",
    "\n",
    "LOAD CSV WITH HEADERS from \"file:///PPP_Dataset.csv\" as row\n",
    "CALL {{\n",
    "\n",
    "WITH row\n",
    "\n",
    "CREATE(:LenderServicing {{locationId: row.locationId, name: row.name}})\n",
    "\n",
    "}} IN TRANSACTIONS OF 10000 ROWS\n",
    "\n",
    "\"\"\")"
   ]
  },
  {
   "cell_type": "markdown",
   "id": "7f5091be",
   "metadata": {},
   "source": [
    "### Lender Originating Nodes"
   ]
  },
  {
   "cell_type": "code",
   "execution_count": null,
   "id": "fe6a25fb",
   "metadata": {},
   "outputs": [],
   "source": [
    "gds.run_cypher(f\"\"\"\n",
    "\n",
    "LOAD CSV WITH HEADERS from \"file:///PPP_Dataset.csv\" as row\n",
    "CALL {{\n",
    "\n",
    "WITH row\n",
    "\n",
    "CREATE(:LenderOriginating {{locationId: row.locationId, name: row.name}})\n",
    "\n",
    "}} IN TRANSACTIONS OF 10000 ROWS\n",
    "\n",
    "\"\"\")"
   ]
  },
  {
   "cell_type": "markdown",
   "id": "3d958d75",
   "metadata": {},
   "source": [
    "### Demographics Nodes"
   ]
  },
  {
   "cell_type": "code",
   "execution_count": null,
   "id": "8123c1bc",
   "metadata": {},
   "outputs": [],
   "source": [
    "gds.run_cypher(f\"\"\"\n",
    "\n",
    "LOAD CSV WITH HEADERS from \"file:///PPP_Dataset.csv\" as row\n",
    "CALL {{\n",
    "\n",
    "WITH row\n",
    "\n",
    "CREATE(:Demographics {{gender: row.gender, veteran: toBoolean(row.veteran), race: row.race}})\n",
    "\n",
    "}} IN TRANSACTIONS OF 10000 ROWS\n",
    "\n",
    "\"\"\")"
   ]
  },
  {
   "cell_type": "markdown",
   "id": "d94ebec5",
   "metadata": {},
   "source": [
    "### Address Borrower Nodes"
   ]
  },
  {
   "cell_type": "code",
   "execution_count": null,
   "id": "ca6771fd",
   "metadata": {},
   "outputs": [],
   "source": [
    "gds.run_cypher(f\"\"\"\n",
    "\n",
    "LOAD CSV WITH HEADERS from \"file:///PPP_Dataset.csv\" as row\n",
    "CALL {{\n",
    "\n",
    "WITH row\n",
    "\n",
    "CREATE(:AddressBorrower {{street: row.street, city: row.city, state: row.state, zip: row.zip}})\n",
    "\n",
    "}} IN TRANSACTIONS OF 10000 ROWS\n",
    "\n",
    "\"\"\")"
   ]
  },
  {
   "cell_type": "markdown",
   "id": "b36e8628",
   "metadata": {},
   "source": [
    "### Address of Lender Servicing Nodes"
   ]
  },
  {
   "cell_type": "code",
   "execution_count": null,
   "id": "1c477c4c",
   "metadata": {},
   "outputs": [],
   "source": [
    "gds.run_cypher(f\"\"\"\n",
    "\n",
    "LOAD CSV WITH HEADERS from \"file:///PPP_Dataset.csv\" as row\n",
    "CALL {{\n",
    "\n",
    "WITH row\n",
    "\n",
    "CREATE(:AddressLenderServicing {{street: row.street, city: row.city, state: row.state, zip: row.zip}})\n",
    "\n",
    "}} IN TRANSACTIONS OF 10000 ROWS\n",
    "\n",
    "\"\"\")"
   ]
  },
  {
   "cell_type": "markdown",
   "id": "7a37ea03",
   "metadata": {},
   "source": [
    "### Address of Lender Originating Nodes"
   ]
  },
  {
   "cell_type": "code",
   "execution_count": null,
   "id": "dd740fda",
   "metadata": {},
   "outputs": [],
   "source": [
    "gds.run_cypher(f\"\"\"\n",
    "\n",
    "LOAD CSV WITH HEADERS from \"file:///PPP_Dataset.csv\" as row\n",
    "CALL {{\n",
    "\n",
    "WITH row\n",
    "\n",
    "CREATE(:AddressLenderOriginating {{street: row.street, city: row.city, state: row.state, zip: row.zip}})\n",
    "\n",
    "}} IN TRANSACTIONS OF 10000 ROWS\n",
    "\n",
    "\"\"\")"
   ]
  },
  {
   "cell_type": "markdown",
   "id": "672f479e",
   "metadata": {},
   "source": [
    "#"
   ]
  },
  {
   "cell_type": "markdown",
   "id": "421a5660",
   "metadata": {},
   "source": [
    "# <center>Indexing</center>"
   ]
  },
  {
   "cell_type": "markdown",
   "id": "69dae2bd",
   "metadata": {},
   "source": [
    "### BorrowerName (Borrower)"
   ]
  },
  {
   "cell_type": "code",
   "execution_count": null,
   "id": "d0deae90",
   "metadata": {},
   "outputs": [],
   "source": [
    "gds.run_cypher(\"\"\"\n",
    "\n",
    "CREATE INDEX Borrower_name_index IF NOT EXISTS\n",
    "FOR (x:Borrower) ON (x.BorrowerName)\n",
    "\n",
    "\"\"\")"
   ]
  },
  {
   "cell_type": "markdown",
   "id": "1e2a5ff1",
   "metadata": {},
   "source": [
    "### LoanNumber (Loan)"
   ]
  },
  {
   "cell_type": "code",
   "execution_count": 4,
   "id": "34a6900d",
   "metadata": {},
   "outputs": [
    {
     "data": {
      "text/html": [
       "<div>\n",
       "<style scoped>\n",
       "    .dataframe tbody tr th:only-of-type {\n",
       "        vertical-align: middle;\n",
       "    }\n",
       "\n",
       "    .dataframe tbody tr th {\n",
       "        vertical-align: top;\n",
       "    }\n",
       "\n",
       "    .dataframe thead th {\n",
       "        text-align: right;\n",
       "    }\n",
       "</style>\n",
       "<table border=\"1\" class=\"dataframe\">\n",
       "  <thead>\n",
       "    <tr style=\"text-align: right;\">\n",
       "      <th></th>\n",
       "    </tr>\n",
       "  </thead>\n",
       "  <tbody>\n",
       "  </tbody>\n",
       "</table>\n",
       "</div>"
      ],
      "text/plain": [
       "Empty DataFrame\n",
       "Columns: []\n",
       "Index: []"
      ]
     },
     "execution_count": 4,
     "metadata": {},
     "output_type": "execute_result"
    }
   ],
   "source": [
    "gds.run_cypher(f\"\"\"\n",
    "\n",
    "CREATE INDEX Loan_number_index IF NOT EXISTS FOR (x:Loan)\n",
    "ON (x.LoanNumber)\n",
    "\n",
    "\"\"\")"
   ]
  },
  {
   "cell_type": "markdown",
   "id": "bf80303e",
   "metadata": {},
   "source": [
    "### ProjectCity (Project)"
   ]
  },
  {
   "cell_type": "code",
   "execution_count": 5,
   "id": "8a3e48e6",
   "metadata": {
    "collapsed": true
   },
   "outputs": [
    {
     "ename": "CypherSyntaxError",
     "evalue": "{code: Neo.ClientError.Statement.SyntaxError} {message: Invalid input '': expected \"FOR\" (line 4, column 2 (offset: 49))\n\"CREATE INDEX Project_city_index IF NOT EXISTS\"\n                                              ^}",
     "output_type": "error",
     "traceback": [
      "\u001b[0;31m---------------------------------------------------------------------------\u001b[0m",
      "\u001b[0;31mCypherSyntaxError\u001b[0m                         Traceback (most recent call last)",
      "Cell \u001b[0;32mIn[5], line 1\u001b[0m\n\u001b[0;32m----> 1\u001b[0m \u001b[43mgds\u001b[49m\u001b[38;5;241;43m.\u001b[39;49m\u001b[43mrun_cypher\u001b[49m\u001b[43m(\u001b[49m\u001b[38;5;124;43m\"\"\"\u001b[39;49m\n\u001b[1;32m      2\u001b[0m \n\u001b[1;32m      3\u001b[0m \u001b[38;5;124;43mCREATE INDEX Project_city_index IF NOT EXISTS\u001b[39;49m\n\u001b[1;32m      4\u001b[0m \n\u001b[1;32m      5\u001b[0m \u001b[38;5;124;43m\"\"\"\u001b[39;49m\u001b[43m)\u001b[49m\n",
      "File \u001b[0;32m/Library/Frameworks/Python.framework/Versions/3.10/lib/python3.10/site-packages/graphdatascience/graph_data_science.py:146\u001b[0m, in \u001b[0;36mGraphDataScience.run_cypher\u001b[0;34m(self, query, params, database)\u001b[0m\n\u001b[1;32m    143\u001b[0m \u001b[38;5;28;01mif\u001b[39;00m \u001b[38;5;28misinstance\u001b[39m(\u001b[38;5;28mself\u001b[39m\u001b[38;5;241m.\u001b[39m_query_runner, ArrowQueryRunner):\n\u001b[1;32m    144\u001b[0m     qr \u001b[38;5;241m=\u001b[39m \u001b[38;5;28mself\u001b[39m\u001b[38;5;241m.\u001b[39m_query_runner\u001b[38;5;241m.\u001b[39mfallback_query_runner()\n\u001b[0;32m--> 146\u001b[0m \u001b[38;5;28;01mreturn\u001b[39;00m \u001b[43mqr\u001b[49m\u001b[38;5;241;43m.\u001b[39;49m\u001b[43mrun_query\u001b[49m\u001b[43m(\u001b[49m\u001b[43mquery\u001b[49m\u001b[43m,\u001b[49m\u001b[43m \u001b[49m\u001b[43mparams\u001b[49m\u001b[43m,\u001b[49m\u001b[43m \u001b[49m\u001b[43mdatabase\u001b[49m\u001b[43m)\u001b[49m\n",
      "File \u001b[0;32m/Library/Frameworks/Python.framework/Versions/3.10/lib/python3.10/site-packages/graphdatascience/query_runner/neo4j_query_runner.py:53\u001b[0m, in \u001b[0;36mNeo4jQueryRunner.run_query\u001b[0;34m(self, query, params, database)\u001b[0m\n\u001b[1;32m     44\u001b[0m     warnings\u001b[38;5;241m.\u001b[39mfilterwarnings(\n\u001b[1;32m     45\u001b[0m         \u001b[38;5;124m\"\u001b[39m\u001b[38;5;124mignore\u001b[39m\u001b[38;5;124m\"\u001b[39m,\n\u001b[1;32m     46\u001b[0m         message\u001b[38;5;241m=\u001b[39m\u001b[38;5;124mr\u001b[39m\u001b[38;5;124m\"\u001b[39m\u001b[38;5;124m^ssl.OP_NO_SSL\u001b[39m\u001b[38;5;124m\\\u001b[39m\u001b[38;5;124m*/ssl.OP_NO_TLS\u001b[39m\u001b[38;5;124m\\\u001b[39m\u001b[38;5;124m* options are deprecated$\u001b[39m\u001b[38;5;124m\"\u001b[39m,\n\u001b[1;32m     47\u001b[0m     )\n\u001b[1;32m     48\u001b[0m     warnings\u001b[38;5;241m.\u001b[39mfilterwarnings(\n\u001b[1;32m     49\u001b[0m         \u001b[38;5;124m\"\u001b[39m\u001b[38;5;124mignore\u001b[39m\u001b[38;5;124m\"\u001b[39m,\n\u001b[1;32m     50\u001b[0m         message\u001b[38;5;241m=\u001b[39m\u001b[38;5;124mr\u001b[39m\u001b[38;5;124m\"\u001b[39m\u001b[38;5;124m^`id` is deprecated, use `element_id` instead$\u001b[39m\u001b[38;5;124m\"\u001b[39m,\n\u001b[1;32m     51\u001b[0m     )\n\u001b[0;32m---> 53\u001b[0m result \u001b[38;5;241m=\u001b[39m \u001b[43msession\u001b[49m\u001b[38;5;241;43m.\u001b[39;49m\u001b[43mrun\u001b[49m\u001b[43m(\u001b[49m\u001b[43mquery\u001b[49m\u001b[43m,\u001b[49m\u001b[43m \u001b[49m\u001b[43mparams\u001b[49m\u001b[43m)\u001b[49m\n\u001b[1;32m     55\u001b[0m \u001b[38;5;66;03m# Though pandas support may be experimental in the `neo4j` package, it should always\u001b[39;00m\n\u001b[1;32m     56\u001b[0m \u001b[38;5;66;03m# be supported in the `graphdatascience` package.\u001b[39;00m\n\u001b[1;32m     57\u001b[0m warnings\u001b[38;5;241m.\u001b[39mfilterwarnings(\n\u001b[1;32m     58\u001b[0m     \u001b[38;5;124m\"\u001b[39m\u001b[38;5;124mignore\u001b[39m\u001b[38;5;124m\"\u001b[39m,\n\u001b[1;32m     59\u001b[0m     message\u001b[38;5;241m=\u001b[39m\u001b[38;5;124mr\u001b[39m\u001b[38;5;124m\"\u001b[39m\u001b[38;5;124m^pandas support is experimental and might be changed or removed in future versions$\u001b[39m\u001b[38;5;124m\"\u001b[39m,\n\u001b[1;32m     60\u001b[0m )\n",
      "File \u001b[0;32m/Library/Frameworks/Python.framework/Versions/3.10/lib/python3.10/site-packages/neo4j/_sync/work/session.py:289\u001b[0m, in \u001b[0;36mSession.run\u001b[0;34m(self, query, parameters, **kwargs)\u001b[0m\n\u001b[1;32m    287\u001b[0m bookmarks \u001b[38;5;241m=\u001b[39m \u001b[38;5;28mself\u001b[39m\u001b[38;5;241m.\u001b[39m_get_bookmarks()\n\u001b[1;32m    288\u001b[0m parameters \u001b[38;5;241m=\u001b[39m \u001b[38;5;28mdict\u001b[39m(parameters \u001b[38;5;129;01mor\u001b[39;00m {}, \u001b[38;5;241m*\u001b[39m\u001b[38;5;241m*\u001b[39mkwargs)\n\u001b[0;32m--> 289\u001b[0m \u001b[38;5;28;43mself\u001b[39;49m\u001b[38;5;241;43m.\u001b[39;49m\u001b[43m_auto_result\u001b[49m\u001b[38;5;241;43m.\u001b[39;49m\u001b[43m_run\u001b[49m\u001b[43m(\u001b[49m\n\u001b[1;32m    290\u001b[0m \u001b[43m    \u001b[49m\u001b[43mquery\u001b[49m\u001b[43m,\u001b[49m\u001b[43m \u001b[49m\u001b[43mparameters\u001b[49m\u001b[43m,\u001b[49m\u001b[43m \u001b[49m\u001b[38;5;28;43mself\u001b[39;49m\u001b[38;5;241;43m.\u001b[39;49m\u001b[43m_config\u001b[49m\u001b[38;5;241;43m.\u001b[39;49m\u001b[43mdatabase\u001b[49m\u001b[43m,\u001b[49m\n\u001b[1;32m    291\u001b[0m \u001b[43m    \u001b[49m\u001b[38;5;28;43mself\u001b[39;49m\u001b[38;5;241;43m.\u001b[39;49m\u001b[43m_config\u001b[49m\u001b[38;5;241;43m.\u001b[39;49m\u001b[43mimpersonated_user\u001b[49m\u001b[43m,\u001b[49m\u001b[43m \u001b[49m\u001b[38;5;28;43mself\u001b[39;49m\u001b[38;5;241;43m.\u001b[39;49m\u001b[43m_config\u001b[49m\u001b[38;5;241;43m.\u001b[39;49m\u001b[43mdefault_access_mode\u001b[49m\u001b[43m,\u001b[49m\n\u001b[1;32m    292\u001b[0m \u001b[43m    \u001b[49m\u001b[43mbookmarks\u001b[49m\n\u001b[1;32m    293\u001b[0m \u001b[43m\u001b[49m\u001b[43m)\u001b[49m\n\u001b[1;32m    295\u001b[0m \u001b[38;5;28;01mreturn\u001b[39;00m \u001b[38;5;28mself\u001b[39m\u001b[38;5;241m.\u001b[39m_auto_result\n",
      "File \u001b[0;32m/Library/Frameworks/Python.framework/Versions/3.10/lib/python3.10/site-packages/neo4j/_sync/work/result.py:166\u001b[0m, in \u001b[0;36mResult._run\u001b[0;34m(self, query, parameters, db, imp_user, access_mode, bookmarks)\u001b[0m\n\u001b[1;32m    164\u001b[0m \u001b[38;5;28mself\u001b[39m\u001b[38;5;241m.\u001b[39m_pull()\n\u001b[1;32m    165\u001b[0m \u001b[38;5;28mself\u001b[39m\u001b[38;5;241m.\u001b[39m_connection\u001b[38;5;241m.\u001b[39msend_all()\n\u001b[0;32m--> 166\u001b[0m \u001b[38;5;28;43mself\u001b[39;49m\u001b[38;5;241;43m.\u001b[39;49m\u001b[43m_attach\u001b[49m\u001b[43m(\u001b[49m\u001b[43m)\u001b[49m\n",
      "File \u001b[0;32m/Library/Frameworks/Python.framework/Versions/3.10/lib/python3.10/site-packages/neo4j/_sync/work/result.py:274\u001b[0m, in \u001b[0;36mResult._attach\u001b[0;34m(self)\u001b[0m\n\u001b[1;32m    272\u001b[0m \u001b[38;5;28;01mif\u001b[39;00m \u001b[38;5;28mself\u001b[39m\u001b[38;5;241m.\u001b[39m_exhausted \u001b[38;5;129;01mis\u001b[39;00m \u001b[38;5;28;01mFalse\u001b[39;00m:\n\u001b[1;32m    273\u001b[0m     \u001b[38;5;28;01mwhile\u001b[39;00m \u001b[38;5;28mself\u001b[39m\u001b[38;5;241m.\u001b[39m_attached \u001b[38;5;129;01mis\u001b[39;00m \u001b[38;5;28;01mFalse\u001b[39;00m:\n\u001b[0;32m--> 274\u001b[0m         \u001b[38;5;28;43mself\u001b[39;49m\u001b[38;5;241;43m.\u001b[39;49m\u001b[43m_connection\u001b[49m\u001b[38;5;241;43m.\u001b[39;49m\u001b[43mfetch_message\u001b[49m\u001b[43m(\u001b[49m\u001b[43m)\u001b[49m\n",
      "File \u001b[0;32m/Library/Frameworks/Python.framework/Versions/3.10/lib/python3.10/site-packages/neo4j/_sync/io/_common.py:180\u001b[0m, in \u001b[0;36mConnectionErrorHandler.__getattr__.<locals>.outer.<locals>.inner\u001b[0;34m(*args, **kwargs)\u001b[0m\n\u001b[1;32m    178\u001b[0m \u001b[38;5;28;01mdef\u001b[39;00m \u001b[38;5;21minner\u001b[39m(\u001b[38;5;241m*\u001b[39margs, \u001b[38;5;241m*\u001b[39m\u001b[38;5;241m*\u001b[39mkwargs):\n\u001b[1;32m    179\u001b[0m     \u001b[38;5;28;01mtry\u001b[39;00m:\n\u001b[0;32m--> 180\u001b[0m         \u001b[43mfunc\u001b[49m\u001b[43m(\u001b[49m\u001b[38;5;241;43m*\u001b[39;49m\u001b[43margs\u001b[49m\u001b[43m,\u001b[49m\u001b[43m \u001b[49m\u001b[38;5;241;43m*\u001b[39;49m\u001b[38;5;241;43m*\u001b[39;49m\u001b[43mkwargs\u001b[49m\u001b[43m)\u001b[49m\n\u001b[1;32m    181\u001b[0m     \u001b[38;5;28;01mexcept\u001b[39;00m (Neo4jError, ServiceUnavailable, SessionExpired) \u001b[38;5;28;01mas\u001b[39;00m exc:\n\u001b[1;32m    182\u001b[0m         \u001b[38;5;28;01massert\u001b[39;00m \u001b[38;5;129;01mnot\u001b[39;00m asyncio\u001b[38;5;241m.\u001b[39miscoroutinefunction(\u001b[38;5;28mself\u001b[39m\u001b[38;5;241m.\u001b[39m__on_error)\n",
      "File \u001b[0;32m/Library/Frameworks/Python.framework/Versions/3.10/lib/python3.10/site-packages/neo4j/_sync/io/_bolt.py:658\u001b[0m, in \u001b[0;36mBolt.fetch_message\u001b[0;34m(self)\u001b[0m\n\u001b[1;32m    654\u001b[0m \u001b[38;5;66;03m# Receive exactly one message\u001b[39;00m\n\u001b[1;32m    655\u001b[0m tag, fields \u001b[38;5;241m=\u001b[39m \u001b[38;5;28mself\u001b[39m\u001b[38;5;241m.\u001b[39minbox\u001b[38;5;241m.\u001b[39mpop(\n\u001b[1;32m    656\u001b[0m     hydration_hooks\u001b[38;5;241m=\u001b[39m\u001b[38;5;28mself\u001b[39m\u001b[38;5;241m.\u001b[39mresponses[\u001b[38;5;241m0\u001b[39m]\u001b[38;5;241m.\u001b[39mhydration_hooks\n\u001b[1;32m    657\u001b[0m )\n\u001b[0;32m--> 658\u001b[0m res \u001b[38;5;241m=\u001b[39m \u001b[38;5;28;43mself\u001b[39;49m\u001b[38;5;241;43m.\u001b[39;49m\u001b[43m_process_message\u001b[49m\u001b[43m(\u001b[49m\u001b[43mtag\u001b[49m\u001b[43m,\u001b[49m\u001b[43m \u001b[49m\u001b[43mfields\u001b[49m\u001b[43m)\u001b[49m\n\u001b[1;32m    659\u001b[0m \u001b[38;5;28mself\u001b[39m\u001b[38;5;241m.\u001b[39midle_since \u001b[38;5;241m=\u001b[39m perf_counter()\n\u001b[1;32m    660\u001b[0m \u001b[38;5;28;01mreturn\u001b[39;00m res\n",
      "File \u001b[0;32m/Library/Frameworks/Python.framework/Versions/3.10/lib/python3.10/site-packages/neo4j/_sync/io/_bolt5.py:317\u001b[0m, in \u001b[0;36mBolt5x0._process_message\u001b[0;34m(self, tag, fields)\u001b[0m\n\u001b[1;32m    315\u001b[0m \u001b[38;5;28mself\u001b[39m\u001b[38;5;241m.\u001b[39m_server_state_manager\u001b[38;5;241m.\u001b[39mstate \u001b[38;5;241m=\u001b[39m ServerStates\u001b[38;5;241m.\u001b[39mFAILED\n\u001b[1;32m    316\u001b[0m \u001b[38;5;28;01mtry\u001b[39;00m:\n\u001b[0;32m--> 317\u001b[0m     \u001b[43mresponse\u001b[49m\u001b[38;5;241;43m.\u001b[39;49m\u001b[43mon_failure\u001b[49m\u001b[43m(\u001b[49m\u001b[43msummary_metadata\u001b[49m\u001b[43m \u001b[49m\u001b[38;5;129;43;01mor\u001b[39;49;00m\u001b[43m \u001b[49m\u001b[43m{\u001b[49m\u001b[43m}\u001b[49m\u001b[43m)\u001b[49m\n\u001b[1;32m    318\u001b[0m \u001b[38;5;28;01mexcept\u001b[39;00m (ServiceUnavailable, DatabaseUnavailable):\n\u001b[1;32m    319\u001b[0m     \u001b[38;5;28;01mif\u001b[39;00m \u001b[38;5;28mself\u001b[39m\u001b[38;5;241m.\u001b[39mpool:\n",
      "File \u001b[0;32m/Library/Frameworks/Python.framework/Versions/3.10/lib/python3.10/site-packages/neo4j/_sync/io/_common.py:247\u001b[0m, in \u001b[0;36mResponse.on_failure\u001b[0;34m(self, metadata)\u001b[0m\n\u001b[1;32m    245\u001b[0m handler \u001b[38;5;241m=\u001b[39m \u001b[38;5;28mself\u001b[39m\u001b[38;5;241m.\u001b[39mhandlers\u001b[38;5;241m.\u001b[39mget(\u001b[38;5;124m\"\u001b[39m\u001b[38;5;124mon_summary\u001b[39m\u001b[38;5;124m\"\u001b[39m)\n\u001b[1;32m    246\u001b[0m Util\u001b[38;5;241m.\u001b[39mcallback(handler)\n\u001b[0;32m--> 247\u001b[0m \u001b[38;5;28;01mraise\u001b[39;00m Neo4jError\u001b[38;5;241m.\u001b[39mhydrate(\u001b[38;5;241m*\u001b[39m\u001b[38;5;241m*\u001b[39mmetadata)\n",
      "\u001b[0;31mCypherSyntaxError\u001b[0m: {code: Neo.ClientError.Statement.SyntaxError} {message: Invalid input '': expected \"FOR\" (line 4, column 2 (offset: 49))\n\"CREATE INDEX Project_city_index IF NOT EXISTS\"\n                                              ^}"
     ]
    }
   ],
   "source": [
    "gds.run_cypher(\"\"\"\n",
    "\n",
    "CREATE INDEX Project_city_index IF NOT EXISTS\n",
    "FOR (x:Project) ON (x.ProjectCity)\n",
    "\n",
    "\"\"\")"
   ]
  },
  {
   "cell_type": "markdown",
   "id": "c4ab308f",
   "metadata": {},
   "source": [
    "### Payroll (Proceeds)"
   ]
  },
  {
   "cell_type": "code",
   "execution_count": null,
   "id": "d2a883a8",
   "metadata": {},
   "outputs": [],
   "source": [
    "gds.run_cypher(\"\"\"\n",
    "\n",
    "CREATE INDEX Proceeds_payroll_index IF NOT EXISTS\n",
    "FOR (x:Proceeds) ON (x.payroll)\n",
    "\n",
    "\"\"\")"
   ]
  },
  {
   "cell_type": "markdown",
   "id": "7e218f6c",
   "metadata": {},
   "source": [
    "### Date (LoanStatus)"
   ]
  },
  {
   "cell_type": "code",
   "execution_count": null,
   "id": "596cdfd8",
   "metadata": {},
   "outputs": [],
   "source": [
    "gds.run_cypher(\"\"\"\n",
    "\n",
    "CREATE INDEX LoanStatus_date_index IF NOT EXISTS\n",
    "FOR (x:LoanStatus) ON (x.date)\n",
    "\n",
    "\"\"\")"
   ]
  },
  {
   "cell_type": "markdown",
   "id": "a5fe4fa0",
   "metadata": {},
   "source": [
    "### Location ID (LenderServicing, LenderOriginating)"
   ]
  },
  {
   "cell_type": "code",
   "execution_count": 7,
   "id": "78c53721",
   "metadata": {
    "scrolled": true
   },
   "outputs": [
    {
     "name": "stderr",
     "output_type": "stream",
     "text": [
      "Failed to read from defunct connection ResolvedIPv4Address(('20.242.190.214', 7687)) (IPv4Address(('20.242.190.214', 7687)))\n",
      "Unable to retrieve routing information\n"
     ]
    },
    {
     "ename": "ServiceUnavailable",
     "evalue": "Unable to retrieve routing information",
     "output_type": "error",
     "traceback": [
      "\u001b[0;31m---------------------------------------------------------------------------\u001b[0m",
      "\u001b[0;31mServiceUnavailable\u001b[0m                        Traceback (most recent call last)",
      "Cell \u001b[0;32mIn[7], line 1\u001b[0m\n\u001b[0;32m----> 1\u001b[0m \u001b[43mgds\u001b[49m\u001b[38;5;241;43m.\u001b[39;49m\u001b[43mrun_cypher\u001b[49m\u001b[43m(\u001b[49m\u001b[38;5;124;43m\"\"\"\u001b[39;49m\n\u001b[1;32m      2\u001b[0m \n\u001b[1;32m      3\u001b[0m \u001b[38;5;124;43mCREATE INDEX LenderServicing_locationId_index IF NOT EXISTS\u001b[39;49m\n\u001b[1;32m      4\u001b[0m \n\u001b[1;32m      5\u001b[0m \u001b[38;5;124;43m\"\"\"\u001b[39;49m\u001b[43m)\u001b[49m\n",
      "File \u001b[0;32m/Library/Frameworks/Python.framework/Versions/3.10/lib/python3.10/site-packages/graphdatascience/graph_data_science.py:146\u001b[0m, in \u001b[0;36mGraphDataScience.run_cypher\u001b[0;34m(self, query, params, database)\u001b[0m\n\u001b[1;32m    143\u001b[0m \u001b[38;5;28;01mif\u001b[39;00m \u001b[38;5;28misinstance\u001b[39m(\u001b[38;5;28mself\u001b[39m\u001b[38;5;241m.\u001b[39m_query_runner, ArrowQueryRunner):\n\u001b[1;32m    144\u001b[0m     qr \u001b[38;5;241m=\u001b[39m \u001b[38;5;28mself\u001b[39m\u001b[38;5;241m.\u001b[39m_query_runner\u001b[38;5;241m.\u001b[39mfallback_query_runner()\n\u001b[0;32m--> 146\u001b[0m \u001b[38;5;28;01mreturn\u001b[39;00m \u001b[43mqr\u001b[49m\u001b[38;5;241;43m.\u001b[39;49m\u001b[43mrun_query\u001b[49m\u001b[43m(\u001b[49m\u001b[43mquery\u001b[49m\u001b[43m,\u001b[49m\u001b[43m \u001b[49m\u001b[43mparams\u001b[49m\u001b[43m,\u001b[49m\u001b[43m \u001b[49m\u001b[43mdatabase\u001b[49m\u001b[43m)\u001b[49m\n",
      "File \u001b[0;32m/Library/Frameworks/Python.framework/Versions/3.10/lib/python3.10/site-packages/graphdatascience/query_runner/neo4j_query_runner.py:53\u001b[0m, in \u001b[0;36mNeo4jQueryRunner.run_query\u001b[0;34m(self, query, params, database)\u001b[0m\n\u001b[1;32m     44\u001b[0m     warnings\u001b[38;5;241m.\u001b[39mfilterwarnings(\n\u001b[1;32m     45\u001b[0m         \u001b[38;5;124m\"\u001b[39m\u001b[38;5;124mignore\u001b[39m\u001b[38;5;124m\"\u001b[39m,\n\u001b[1;32m     46\u001b[0m         message\u001b[38;5;241m=\u001b[39m\u001b[38;5;124mr\u001b[39m\u001b[38;5;124m\"\u001b[39m\u001b[38;5;124m^ssl.OP_NO_SSL\u001b[39m\u001b[38;5;124m\\\u001b[39m\u001b[38;5;124m*/ssl.OP_NO_TLS\u001b[39m\u001b[38;5;124m\\\u001b[39m\u001b[38;5;124m* options are deprecated$\u001b[39m\u001b[38;5;124m\"\u001b[39m,\n\u001b[1;32m     47\u001b[0m     )\n\u001b[1;32m     48\u001b[0m     warnings\u001b[38;5;241m.\u001b[39mfilterwarnings(\n\u001b[1;32m     49\u001b[0m         \u001b[38;5;124m\"\u001b[39m\u001b[38;5;124mignore\u001b[39m\u001b[38;5;124m\"\u001b[39m,\n\u001b[1;32m     50\u001b[0m         message\u001b[38;5;241m=\u001b[39m\u001b[38;5;124mr\u001b[39m\u001b[38;5;124m\"\u001b[39m\u001b[38;5;124m^`id` is deprecated, use `element_id` instead$\u001b[39m\u001b[38;5;124m\"\u001b[39m,\n\u001b[1;32m     51\u001b[0m     )\n\u001b[0;32m---> 53\u001b[0m result \u001b[38;5;241m=\u001b[39m \u001b[43msession\u001b[49m\u001b[38;5;241;43m.\u001b[39;49m\u001b[43mrun\u001b[49m\u001b[43m(\u001b[49m\u001b[43mquery\u001b[49m\u001b[43m,\u001b[49m\u001b[43m \u001b[49m\u001b[43mparams\u001b[49m\u001b[43m)\u001b[49m\n\u001b[1;32m     55\u001b[0m \u001b[38;5;66;03m# Though pandas support may be experimental in the `neo4j` package, it should always\u001b[39;00m\n\u001b[1;32m     56\u001b[0m \u001b[38;5;66;03m# be supported in the `graphdatascience` package.\u001b[39;00m\n\u001b[1;32m     57\u001b[0m warnings\u001b[38;5;241m.\u001b[39mfilterwarnings(\n\u001b[1;32m     58\u001b[0m     \u001b[38;5;124m\"\u001b[39m\u001b[38;5;124mignore\u001b[39m\u001b[38;5;124m\"\u001b[39m,\n\u001b[1;32m     59\u001b[0m     message\u001b[38;5;241m=\u001b[39m\u001b[38;5;124mr\u001b[39m\u001b[38;5;124m\"\u001b[39m\u001b[38;5;124m^pandas support is experimental and might be changed or removed in future versions$\u001b[39m\u001b[38;5;124m\"\u001b[39m,\n\u001b[1;32m     60\u001b[0m )\n",
      "File \u001b[0;32m/Library/Frameworks/Python.framework/Versions/3.10/lib/python3.10/site-packages/neo4j/_sync/work/session.py:280\u001b[0m, in \u001b[0;36mSession.run\u001b[0;34m(self, query, parameters, **kwargs)\u001b[0m\n\u001b[1;32m    277\u001b[0m     \u001b[38;5;28mself\u001b[39m\u001b[38;5;241m.\u001b[39m_auto_result\u001b[38;5;241m.\u001b[39m_buffer_all()\n\u001b[1;32m    279\u001b[0m \u001b[38;5;28;01mif\u001b[39;00m \u001b[38;5;129;01mnot\u001b[39;00m \u001b[38;5;28mself\u001b[39m\u001b[38;5;241m.\u001b[39m_connection:\n\u001b[0;32m--> 280\u001b[0m     \u001b[38;5;28;43mself\u001b[39;49m\u001b[38;5;241;43m.\u001b[39;49m\u001b[43m_connect\u001b[49m\u001b[43m(\u001b[49m\u001b[38;5;28;43mself\u001b[39;49m\u001b[38;5;241;43m.\u001b[39;49m\u001b[43m_config\u001b[49m\u001b[38;5;241;43m.\u001b[39;49m\u001b[43mdefault_access_mode\u001b[49m\u001b[43m)\u001b[49m\n\u001b[1;32m    281\u001b[0m cx \u001b[38;5;241m=\u001b[39m \u001b[38;5;28mself\u001b[39m\u001b[38;5;241m.\u001b[39m_connection\n\u001b[1;32m    283\u001b[0m \u001b[38;5;28mself\u001b[39m\u001b[38;5;241m.\u001b[39m_auto_result \u001b[38;5;241m=\u001b[39m Result(\n\u001b[1;32m    284\u001b[0m     cx, \u001b[38;5;28mself\u001b[39m\u001b[38;5;241m.\u001b[39m_config\u001b[38;5;241m.\u001b[39mfetch_size, \u001b[38;5;28mself\u001b[39m\u001b[38;5;241m.\u001b[39m_result_closed,\n\u001b[1;32m    285\u001b[0m     \u001b[38;5;28mself\u001b[39m\u001b[38;5;241m.\u001b[39m_result_error\n\u001b[1;32m    286\u001b[0m )\n",
      "File \u001b[0;32m/Library/Frameworks/Python.framework/Versions/3.10/lib/python3.10/site-packages/neo4j/_sync/work/session.py:120\u001b[0m, in \u001b[0;36mSession._connect\u001b[0;34m(self, access_mode, **access_kwargs)\u001b[0m\n\u001b[1;32m    118\u001b[0m     access_mode \u001b[38;5;241m=\u001b[39m \u001b[38;5;28mself\u001b[39m\u001b[38;5;241m.\u001b[39m_config\u001b[38;5;241m.\u001b[39mdefault_access_mode\n\u001b[1;32m    119\u001b[0m \u001b[38;5;28;01mtry\u001b[39;00m:\n\u001b[0;32m--> 120\u001b[0m     \u001b[38;5;28;43msuper\u001b[39;49m\u001b[43m(\u001b[49m\u001b[43m)\u001b[49m\u001b[38;5;241;43m.\u001b[39;49m\u001b[43m_connect\u001b[49m\u001b[43m(\u001b[49m\u001b[43maccess_mode\u001b[49m\u001b[43m,\u001b[49m\u001b[43m \u001b[49m\u001b[38;5;241;43m*\u001b[39;49m\u001b[38;5;241;43m*\u001b[39;49m\u001b[43maccess_kwargs\u001b[49m\u001b[43m)\u001b[49m\n\u001b[1;32m    121\u001b[0m \u001b[38;5;28;01mexcept\u001b[39;00m asyncio\u001b[38;5;241m.\u001b[39mCancelledError:\n\u001b[1;32m    122\u001b[0m     \u001b[38;5;28mself\u001b[39m\u001b[38;5;241m.\u001b[39m_handle_cancellation(message\u001b[38;5;241m=\u001b[39m\u001b[38;5;124m\"\u001b[39m\u001b[38;5;124m_connect\u001b[39m\u001b[38;5;124m\"\u001b[39m)\n",
      "File \u001b[0;32m/Library/Frameworks/Python.framework/Versions/3.10/lib/python3.10/site-packages/neo4j/_sync/work/workspace.py:168\u001b[0m, in \u001b[0;36mWorkspace._connect\u001b[0;34m(self, access_mode, **acquire_kwargs)\u001b[0m\n\u001b[1;32m    160\u001b[0m acquire_kwargs_ \u001b[38;5;241m=\u001b[39m {\n\u001b[1;32m    161\u001b[0m     \u001b[38;5;124m\"\u001b[39m\u001b[38;5;124maccess_mode\u001b[39m\u001b[38;5;124m\"\u001b[39m: access_mode,\n\u001b[1;32m    162\u001b[0m     \u001b[38;5;124m\"\u001b[39m\u001b[38;5;124mtimeout\u001b[39m\u001b[38;5;124m\"\u001b[39m: acquisition_timeout,\n\u001b[0;32m   (...)\u001b[0m\n\u001b[1;32m    165\u001b[0m     \u001b[38;5;124m\"\u001b[39m\u001b[38;5;124mliveness_check_timeout\u001b[39m\u001b[38;5;124m\"\u001b[39m: \u001b[38;5;28;01mNone\u001b[39;00m,\n\u001b[1;32m    166\u001b[0m }\n\u001b[1;32m    167\u001b[0m acquire_kwargs_\u001b[38;5;241m.\u001b[39mupdate(acquire_kwargs)\n\u001b[0;32m--> 168\u001b[0m \u001b[38;5;28mself\u001b[39m\u001b[38;5;241m.\u001b[39m_connection \u001b[38;5;241m=\u001b[39m \u001b[38;5;28;43mself\u001b[39;49m\u001b[38;5;241;43m.\u001b[39;49m\u001b[43m_pool\u001b[49m\u001b[38;5;241;43m.\u001b[39;49m\u001b[43macquire\u001b[49m\u001b[43m(\u001b[49m\u001b[38;5;241;43m*\u001b[39;49m\u001b[38;5;241;43m*\u001b[39;49m\u001b[43macquire_kwargs_\u001b[49m\u001b[43m)\u001b[49m\n\u001b[1;32m    169\u001b[0m \u001b[38;5;28mself\u001b[39m\u001b[38;5;241m.\u001b[39m_connection_access_mode \u001b[38;5;241m=\u001b[39m access_mode\n",
      "File \u001b[0;32m/Library/Frameworks/Python.framework/Versions/3.10/lib/python3.10/site-packages/neo4j/_sync/io/_pool.py:778\u001b[0m, in \u001b[0;36mNeo4jPool.acquire\u001b[0;34m(self, access_mode, timeout, database, bookmarks, liveness_check_timeout)\u001b[0m\n\u001b[1;32m    771\u001b[0m \u001b[38;5;66;03m#     await self.ensure_routing_table_is_fresh(\u001b[39;00m\n\u001b[1;32m    772\u001b[0m \u001b[38;5;66;03m#         access_mode=access_mode, database=database, imp_user=None,\u001b[39;00m\n\u001b[1;32m    773\u001b[0m \u001b[38;5;66;03m#         bookmarks=bookmarks, acquisition_timeout=timeout\u001b[39;00m\n\u001b[1;32m    774\u001b[0m \u001b[38;5;66;03m#     )\u001b[39;00m\n\u001b[1;32m    776\u001b[0m log\u001b[38;5;241m.\u001b[39mdebug(\u001b[38;5;124m\"\u001b[39m\u001b[38;5;124m[#0000]  _: <POOL> acquire routing connection, \u001b[39m\u001b[38;5;124m\"\u001b[39m\n\u001b[1;32m    777\u001b[0m           \u001b[38;5;124m\"\u001b[39m\u001b[38;5;124maccess_mode=\u001b[39m\u001b[38;5;132;01m%r\u001b[39;00m\u001b[38;5;124m, database=\u001b[39m\u001b[38;5;132;01m%r\u001b[39;00m\u001b[38;5;124m\"\u001b[39m, access_mode, database)\n\u001b[0;32m--> 778\u001b[0m \u001b[38;5;28;43mself\u001b[39;49m\u001b[38;5;241;43m.\u001b[39;49m\u001b[43mensure_routing_table_is_fresh\u001b[49m\u001b[43m(\u001b[49m\n\u001b[1;32m    779\u001b[0m \u001b[43m    \u001b[49m\u001b[43maccess_mode\u001b[49m\u001b[38;5;241;43m=\u001b[39;49m\u001b[43maccess_mode\u001b[49m\u001b[43m,\u001b[49m\u001b[43m \u001b[49m\u001b[43mdatabase\u001b[49m\u001b[38;5;241;43m=\u001b[39;49m\u001b[43mdatabase\u001b[49m\u001b[43m,\u001b[49m\n\u001b[1;32m    780\u001b[0m \u001b[43m    \u001b[49m\u001b[43mimp_user\u001b[49m\u001b[38;5;241;43m=\u001b[39;49m\u001b[38;5;28;43;01mNone\u001b[39;49;00m\u001b[43m,\u001b[49m\u001b[43m \u001b[49m\u001b[43mbookmarks\u001b[49m\u001b[38;5;241;43m=\u001b[39;49m\u001b[43mbookmarks\u001b[49m\u001b[43m,\u001b[49m\n\u001b[1;32m    781\u001b[0m \u001b[43m    \u001b[49m\u001b[43macquisition_timeout\u001b[49m\u001b[38;5;241;43m=\u001b[39;49m\u001b[43mtimeout\u001b[49m\n\u001b[1;32m    782\u001b[0m \u001b[43m\u001b[49m\u001b[43m)\u001b[49m\n\u001b[1;32m    784\u001b[0m \u001b[38;5;28;01mwhile\u001b[39;00m \u001b[38;5;28;01mTrue\u001b[39;00m:\n\u001b[1;32m    785\u001b[0m     \u001b[38;5;28;01mtry\u001b[39;00m:\n\u001b[1;32m    786\u001b[0m         \u001b[38;5;66;03m# Get an address for a connection that have the fewest in-use\u001b[39;00m\n\u001b[1;32m    787\u001b[0m         \u001b[38;5;66;03m# connections.\u001b[39;00m\n",
      "File \u001b[0;32m/Library/Frameworks/Python.framework/Versions/3.10/lib/python3.10/site-packages/neo4j/_sync/io/_pool.py:721\u001b[0m, in \u001b[0;36mNeo4jPool.ensure_routing_table_is_fresh\u001b[0;34m(self, access_mode, database, imp_user, bookmarks, acquisition_timeout, database_callback)\u001b[0m\n\u001b[1;32m    717\u001b[0m     log\u001b[38;5;241m.\u001b[39mdebug(\u001b[38;5;124m\"\u001b[39m\u001b[38;5;124m[#0000]  _: <POOL> using existing routing table \u001b[39m\u001b[38;5;132;01m%r\u001b[39;00m\u001b[38;5;124m\"\u001b[39m,\n\u001b[1;32m    718\u001b[0m               routing_table)\n\u001b[1;32m    719\u001b[0m     \u001b[38;5;28;01mreturn\u001b[39;00m \u001b[38;5;28;01mFalse\u001b[39;00m\n\u001b[0;32m--> 721\u001b[0m \u001b[38;5;28;43mself\u001b[39;49m\u001b[38;5;241;43m.\u001b[39;49m\u001b[43mupdate_routing_table\u001b[49m\u001b[43m(\u001b[49m\n\u001b[1;32m    722\u001b[0m \u001b[43m    \u001b[49m\u001b[43mdatabase\u001b[49m\u001b[38;5;241;43m=\u001b[39;49m\u001b[43mdatabase\u001b[49m\u001b[43m,\u001b[49m\u001b[43m \u001b[49m\u001b[43mimp_user\u001b[49m\u001b[38;5;241;43m=\u001b[39;49m\u001b[43mimp_user\u001b[49m\u001b[43m,\u001b[49m\u001b[43m \u001b[49m\u001b[43mbookmarks\u001b[49m\u001b[38;5;241;43m=\u001b[39;49m\u001b[43mbookmarks\u001b[49m\u001b[43m,\u001b[49m\n\u001b[1;32m    723\u001b[0m \u001b[43m    \u001b[49m\u001b[43macquisition_timeout\u001b[49m\u001b[38;5;241;43m=\u001b[39;49m\u001b[43macquisition_timeout\u001b[49m\u001b[43m,\u001b[49m\n\u001b[1;32m    724\u001b[0m \u001b[43m    \u001b[49m\u001b[43mdatabase_callback\u001b[49m\u001b[38;5;241;43m=\u001b[39;49m\u001b[43mdatabase_callback\u001b[49m\n\u001b[1;32m    725\u001b[0m \u001b[43m\u001b[49m\u001b[43m)\u001b[49m\n\u001b[1;32m    726\u001b[0m \u001b[38;5;28mself\u001b[39m\u001b[38;5;241m.\u001b[39mupdate_connection_pool(database\u001b[38;5;241m=\u001b[39mdatabase)\n\u001b[1;32m    728\u001b[0m \u001b[38;5;28;01mreturn\u001b[39;00m \u001b[38;5;28;01mTrue\u001b[39;00m\n",
      "File \u001b[0;32m/Library/Frameworks/Python.framework/Versions/3.10/lib/python3.10/site-packages/neo4j/_sync/io/_pool.py:676\u001b[0m, in \u001b[0;36mNeo4jPool.update_routing_table\u001b[0;34m(self, database, imp_user, bookmarks, acquisition_timeout, database_callback)\u001b[0m\n\u001b[1;32m    674\u001b[0m \u001b[38;5;66;03m# None of the routers have been successful, so just fail\u001b[39;00m\n\u001b[1;32m    675\u001b[0m log\u001b[38;5;241m.\u001b[39merror(\u001b[38;5;124m\"\u001b[39m\u001b[38;5;124mUnable to retrieve routing information\u001b[39m\u001b[38;5;124m\"\u001b[39m)\n\u001b[0;32m--> 676\u001b[0m \u001b[38;5;28;01mraise\u001b[39;00m ServiceUnavailable(\u001b[38;5;124m\"\u001b[39m\u001b[38;5;124mUnable to retrieve routing information\u001b[39m\u001b[38;5;124m\"\u001b[39m)\n",
      "\u001b[0;31mServiceUnavailable\u001b[0m: Unable to retrieve routing information"
     ]
    }
   ],
   "source": [
    "gds.run_cypher(\"\"\"\n",
    "\n",
    "CREATE INDEX LenderServicing_locationId_index IF NOT EXISTS\n",
    "FOR (x:LenderServicing) ON (x.locationId)\n",
    "\n",
    "\"\"\")"
   ]
  },
  {
   "cell_type": "code",
   "execution_count": null,
   "id": "a8490993",
   "metadata": {},
   "outputs": [],
   "source": [
    "gds.run_cypher(\"\"\"\n",
    "\n",
    "CREATE INDEX LenderOriginating_locationId_index IF NOT EXISTS\n",
    "FOR (x:LenderOriginating) ON (x.locationId)\n",
    "\n",
    "\"\"\")"
   ]
  },
  {
   "cell_type": "markdown",
   "id": "3fcc8bac",
   "metadata": {},
   "source": [
    "### Race (Demographics)"
   ]
  },
  {
   "cell_type": "code",
   "execution_count": null,
   "id": "90c8c9f2",
   "metadata": {},
   "outputs": [],
   "source": [
    "gds.run_cypher(\"\"\"\n",
    "\n",
    "CREATE INDEX Demographics_race_index IF NOT EXISTS\n",
    "FOR (x:Demographics) ON (x.race)\n",
    "\n",
    "\"\"\")"
   ]
  },
  {
   "cell_type": "markdown",
   "id": "4dad1a76",
   "metadata": {},
   "source": [
    "### Zip (Borrower, AddressLenderServicing, AddressLenderOriginating)"
   ]
  },
  {
   "cell_type": "code",
   "execution_count": null,
   "id": "b59edd73",
   "metadata": {},
   "outputs": [],
   "source": [
    "gds.run_cypher(\"\"\"\n",
    "\n",
    "CREATE INDEX AddressBorrower_zip_index IF NOT EXISTS\n",
    "FOR (x:AddressBorrower) ON (x.zip)\n",
    "\n",
    "\"\"\")"
   ]
  },
  {
   "cell_type": "code",
   "execution_count": 8,
   "id": "2ff2589c",
   "metadata": {
    "scrolled": true
   },
   "outputs": [
    {
     "data": {
      "text/html": [
       "<div>\n",
       "<style scoped>\n",
       "    .dataframe tbody tr th:only-of-type {\n",
       "        vertical-align: middle;\n",
       "    }\n",
       "\n",
       "    .dataframe tbody tr th {\n",
       "        vertical-align: top;\n",
       "    }\n",
       "\n",
       "    .dataframe thead th {\n",
       "        text-align: right;\n",
       "    }\n",
       "</style>\n",
       "<table border=\"1\" class=\"dataframe\">\n",
       "  <thead>\n",
       "    <tr style=\"text-align: right;\">\n",
       "      <th></th>\n",
       "    </tr>\n",
       "  </thead>\n",
       "  <tbody>\n",
       "  </tbody>\n",
       "</table>\n",
       "</div>"
      ],
      "text/plain": [
       "Empty DataFrame\n",
       "Columns: []\n",
       "Index: []"
      ]
     },
     "execution_count": 8,
     "metadata": {},
     "output_type": "execute_result"
    }
   ],
   "source": [
    "gds.run_cypher(\"\"\"\n",
    "\n",
    "CREATE INDEX AddressLenderServicing_zip_index IF NOT EXISTS\n",
    "FOR (x:AddressLenderServicing) ON (x.zip)\n",
    "\n",
    "\"\"\")"
   ]
  },
  {
   "cell_type": "code",
   "execution_count": null,
   "id": "c5521a5e",
   "metadata": {},
   "outputs": [],
   "source": [
    "gds.run_cypher(\"\"\"\n",
    "\n",
    "CREATE INDEX AddressLenderOriginating_zip_index IF NOT EXISTS\n",
    "FOR (x:AddressLenderOriginating) ON (x.zip)\n",
    "\n",
    "\"\"\")"
   ]
  },
  {
   "cell_type": "markdown",
   "id": "3b301fc9",
   "metadata": {},
   "source": [
    "#"
   ]
  },
  {
   "cell_type": "markdown",
   "id": "7877f6f3",
   "metadata": {},
   "source": [
    "# <center>Creating the Relationships</center>"
   ]
  },
  {
   "cell_type": "markdown",
   "id": "706cdbe5",
   "metadata": {},
   "source": [
    "### Borrower -- [:BORROWED] --> Loan"
   ]
  },
  {
   "cell_type": "code",
   "execution_count": 4,
   "id": "9cc9d137",
   "metadata": {
    "collapsed": true
   },
   "outputs": [
    {
     "ename": "DatabaseError",
     "evalue": "{code: Neo.DatabaseError.Statement.ExecutionFailed} {message: Java heap space}",
     "output_type": "error",
     "traceback": [
      "\u001b[0;31m---------------------------------------------------------------------------\u001b[0m",
      "\u001b[0;31mDatabaseError\u001b[0m                             Traceback (most recent call last)",
      "Cell \u001b[0;32mIn[4], line 1\u001b[0m\n\u001b[0;32m----> 1\u001b[0m \u001b[43mgds\u001b[49m\u001b[38;5;241;43m.\u001b[39;49m\u001b[43mrun_cypher\u001b[49m\u001b[43m(\u001b[49m\u001b[38;5;124;43mf\u001b[39;49m\u001b[38;5;124;43m\"\"\"\u001b[39;49m\n\u001b[1;32m      2\u001b[0m \n\u001b[1;32m      3\u001b[0m \u001b[38;5;124;43mLOAD CSV WITH HEADERS from \u001b[39;49m\u001b[38;5;124;43m\"\u001b[39;49m\u001b[38;5;124;43mfile:///PPP_Dataset.csv\u001b[39;49m\u001b[38;5;124;43m\"\u001b[39;49m\u001b[38;5;124;43m as row\u001b[39;49m\n\u001b[1;32m      4\u001b[0m \u001b[38;5;124;43mCALL \u001b[39;49m\u001b[38;5;130;43;01m{{\u001b[39;49;00m\n\u001b[1;32m      5\u001b[0m \n\u001b[1;32m      6\u001b[0m \u001b[38;5;124;43mWITH row\u001b[39;49m\n\u001b[1;32m      7\u001b[0m \n\u001b[1;32m      8\u001b[0m \u001b[38;5;124;43m//Node\u001b[39;49m\n\u001b[1;32m      9\u001b[0m \u001b[38;5;124;43mMATCH (source:Borrower)\u001b[39;49m\n\u001b[1;32m     10\u001b[0m \u001b[38;5;124;43m    WHERE source.BorrowerName = (row.BorrowerName)\u001b[39;49m\n\u001b[1;32m     11\u001b[0m \n\u001b[1;32m     12\u001b[0m \u001b[38;5;124;43m//Target Node\u001b[39;49m\n\u001b[1;32m     13\u001b[0m \u001b[38;5;124;43mMATCH (target:Loan)\u001b[39;49m\n\u001b[1;32m     14\u001b[0m \u001b[38;5;124;43m    WHERE target.LoanNumber = toInteger(row.LoanNumber)\u001b[39;49m\n\u001b[1;32m     15\u001b[0m \n\u001b[1;32m     16\u001b[0m \u001b[38;5;124;43m//Edges\u001b[39;49m\n\u001b[1;32m     17\u001b[0m \u001b[38;5;124;43mCREATE (source)-[r:BORROWED]->(target)\u001b[39;49m\n\u001b[1;32m     18\u001b[0m \n\u001b[1;32m     19\u001b[0m \u001b[38;5;130;43;01m}}\u001b[39;49;00m\u001b[38;5;124;43m IN TRANSACTIONS OF 1000 ROWS\u001b[39;49m\n\u001b[1;32m     20\u001b[0m \n\u001b[1;32m     21\u001b[0m \u001b[38;5;124;43m\"\"\"\u001b[39;49m\u001b[43m)\u001b[49m\n",
      "File \u001b[0;32m/Library/Frameworks/Python.framework/Versions/3.10/lib/python3.10/site-packages/graphdatascience/graph_data_science.py:146\u001b[0m, in \u001b[0;36mGraphDataScience.run_cypher\u001b[0;34m(self, query, params, database)\u001b[0m\n\u001b[1;32m    143\u001b[0m \u001b[38;5;28;01mif\u001b[39;00m \u001b[38;5;28misinstance\u001b[39m(\u001b[38;5;28mself\u001b[39m\u001b[38;5;241m.\u001b[39m_query_runner, ArrowQueryRunner):\n\u001b[1;32m    144\u001b[0m     qr \u001b[38;5;241m=\u001b[39m \u001b[38;5;28mself\u001b[39m\u001b[38;5;241m.\u001b[39m_query_runner\u001b[38;5;241m.\u001b[39mfallback_query_runner()\n\u001b[0;32m--> 146\u001b[0m \u001b[38;5;28;01mreturn\u001b[39;00m \u001b[43mqr\u001b[49m\u001b[38;5;241;43m.\u001b[39;49m\u001b[43mrun_query\u001b[49m\u001b[43m(\u001b[49m\u001b[43mquery\u001b[49m\u001b[43m,\u001b[49m\u001b[43m \u001b[49m\u001b[43mparams\u001b[49m\u001b[43m,\u001b[49m\u001b[43m \u001b[49m\u001b[43mdatabase\u001b[49m\u001b[43m)\u001b[49m\n",
      "File \u001b[0;32m/Library/Frameworks/Python.framework/Versions/3.10/lib/python3.10/site-packages/graphdatascience/query_runner/neo4j_query_runner.py:53\u001b[0m, in \u001b[0;36mNeo4jQueryRunner.run_query\u001b[0;34m(self, query, params, database)\u001b[0m\n\u001b[1;32m     44\u001b[0m     warnings\u001b[38;5;241m.\u001b[39mfilterwarnings(\n\u001b[1;32m     45\u001b[0m         \u001b[38;5;124m\"\u001b[39m\u001b[38;5;124mignore\u001b[39m\u001b[38;5;124m\"\u001b[39m,\n\u001b[1;32m     46\u001b[0m         message\u001b[38;5;241m=\u001b[39m\u001b[38;5;124mr\u001b[39m\u001b[38;5;124m\"\u001b[39m\u001b[38;5;124m^ssl.OP_NO_SSL\u001b[39m\u001b[38;5;124m\\\u001b[39m\u001b[38;5;124m*/ssl.OP_NO_TLS\u001b[39m\u001b[38;5;124m\\\u001b[39m\u001b[38;5;124m* options are deprecated$\u001b[39m\u001b[38;5;124m\"\u001b[39m,\n\u001b[1;32m     47\u001b[0m     )\n\u001b[1;32m     48\u001b[0m     warnings\u001b[38;5;241m.\u001b[39mfilterwarnings(\n\u001b[1;32m     49\u001b[0m         \u001b[38;5;124m\"\u001b[39m\u001b[38;5;124mignore\u001b[39m\u001b[38;5;124m\"\u001b[39m,\n\u001b[1;32m     50\u001b[0m         message\u001b[38;5;241m=\u001b[39m\u001b[38;5;124mr\u001b[39m\u001b[38;5;124m\"\u001b[39m\u001b[38;5;124m^`id` is deprecated, use `element_id` instead$\u001b[39m\u001b[38;5;124m\"\u001b[39m,\n\u001b[1;32m     51\u001b[0m     )\n\u001b[0;32m---> 53\u001b[0m result \u001b[38;5;241m=\u001b[39m \u001b[43msession\u001b[49m\u001b[38;5;241;43m.\u001b[39;49m\u001b[43mrun\u001b[49m\u001b[43m(\u001b[49m\u001b[43mquery\u001b[49m\u001b[43m,\u001b[49m\u001b[43m \u001b[49m\u001b[43mparams\u001b[49m\u001b[43m)\u001b[49m\n\u001b[1;32m     55\u001b[0m \u001b[38;5;66;03m# Though pandas support may be experimental in the `neo4j` package, it should always\u001b[39;00m\n\u001b[1;32m     56\u001b[0m \u001b[38;5;66;03m# be supported in the `graphdatascience` package.\u001b[39;00m\n\u001b[1;32m     57\u001b[0m warnings\u001b[38;5;241m.\u001b[39mfilterwarnings(\n\u001b[1;32m     58\u001b[0m     \u001b[38;5;124m\"\u001b[39m\u001b[38;5;124mignore\u001b[39m\u001b[38;5;124m\"\u001b[39m,\n\u001b[1;32m     59\u001b[0m     message\u001b[38;5;241m=\u001b[39m\u001b[38;5;124mr\u001b[39m\u001b[38;5;124m\"\u001b[39m\u001b[38;5;124m^pandas support is experimental and might be changed or removed in future versions$\u001b[39m\u001b[38;5;124m\"\u001b[39m,\n\u001b[1;32m     60\u001b[0m )\n",
      "File \u001b[0;32m/Library/Frameworks/Python.framework/Versions/3.10/lib/python3.10/site-packages/neo4j/_sync/work/session.py:289\u001b[0m, in \u001b[0;36mSession.run\u001b[0;34m(self, query, parameters, **kwargs)\u001b[0m\n\u001b[1;32m    287\u001b[0m bookmarks \u001b[38;5;241m=\u001b[39m \u001b[38;5;28mself\u001b[39m\u001b[38;5;241m.\u001b[39m_get_bookmarks()\n\u001b[1;32m    288\u001b[0m parameters \u001b[38;5;241m=\u001b[39m \u001b[38;5;28mdict\u001b[39m(parameters \u001b[38;5;129;01mor\u001b[39;00m {}, \u001b[38;5;241m*\u001b[39m\u001b[38;5;241m*\u001b[39mkwargs)\n\u001b[0;32m--> 289\u001b[0m \u001b[38;5;28;43mself\u001b[39;49m\u001b[38;5;241;43m.\u001b[39;49m\u001b[43m_auto_result\u001b[49m\u001b[38;5;241;43m.\u001b[39;49m\u001b[43m_run\u001b[49m\u001b[43m(\u001b[49m\n\u001b[1;32m    290\u001b[0m \u001b[43m    \u001b[49m\u001b[43mquery\u001b[49m\u001b[43m,\u001b[49m\u001b[43m \u001b[49m\u001b[43mparameters\u001b[49m\u001b[43m,\u001b[49m\u001b[43m \u001b[49m\u001b[38;5;28;43mself\u001b[39;49m\u001b[38;5;241;43m.\u001b[39;49m\u001b[43m_config\u001b[49m\u001b[38;5;241;43m.\u001b[39;49m\u001b[43mdatabase\u001b[49m\u001b[43m,\u001b[49m\n\u001b[1;32m    291\u001b[0m \u001b[43m    \u001b[49m\u001b[38;5;28;43mself\u001b[39;49m\u001b[38;5;241;43m.\u001b[39;49m\u001b[43m_config\u001b[49m\u001b[38;5;241;43m.\u001b[39;49m\u001b[43mimpersonated_user\u001b[49m\u001b[43m,\u001b[49m\u001b[43m \u001b[49m\u001b[38;5;28;43mself\u001b[39;49m\u001b[38;5;241;43m.\u001b[39;49m\u001b[43m_config\u001b[49m\u001b[38;5;241;43m.\u001b[39;49m\u001b[43mdefault_access_mode\u001b[49m\u001b[43m,\u001b[49m\n\u001b[1;32m    292\u001b[0m \u001b[43m    \u001b[49m\u001b[43mbookmarks\u001b[49m\n\u001b[1;32m    293\u001b[0m \u001b[43m\u001b[49m\u001b[43m)\u001b[49m\n\u001b[1;32m    295\u001b[0m \u001b[38;5;28;01mreturn\u001b[39;00m \u001b[38;5;28mself\u001b[39m\u001b[38;5;241m.\u001b[39m_auto_result\n",
      "File \u001b[0;32m/Library/Frameworks/Python.framework/Versions/3.10/lib/python3.10/site-packages/neo4j/_sync/work/result.py:166\u001b[0m, in \u001b[0;36mResult._run\u001b[0;34m(self, query, parameters, db, imp_user, access_mode, bookmarks)\u001b[0m\n\u001b[1;32m    164\u001b[0m \u001b[38;5;28mself\u001b[39m\u001b[38;5;241m.\u001b[39m_pull()\n\u001b[1;32m    165\u001b[0m \u001b[38;5;28mself\u001b[39m\u001b[38;5;241m.\u001b[39m_connection\u001b[38;5;241m.\u001b[39msend_all()\n\u001b[0;32m--> 166\u001b[0m \u001b[38;5;28;43mself\u001b[39;49m\u001b[38;5;241;43m.\u001b[39;49m\u001b[43m_attach\u001b[49m\u001b[43m(\u001b[49m\u001b[43m)\u001b[49m\n",
      "File \u001b[0;32m/Library/Frameworks/Python.framework/Versions/3.10/lib/python3.10/site-packages/neo4j/_sync/work/result.py:274\u001b[0m, in \u001b[0;36mResult._attach\u001b[0;34m(self)\u001b[0m\n\u001b[1;32m    272\u001b[0m \u001b[38;5;28;01mif\u001b[39;00m \u001b[38;5;28mself\u001b[39m\u001b[38;5;241m.\u001b[39m_exhausted \u001b[38;5;129;01mis\u001b[39;00m \u001b[38;5;28;01mFalse\u001b[39;00m:\n\u001b[1;32m    273\u001b[0m     \u001b[38;5;28;01mwhile\u001b[39;00m \u001b[38;5;28mself\u001b[39m\u001b[38;5;241m.\u001b[39m_attached \u001b[38;5;129;01mis\u001b[39;00m \u001b[38;5;28;01mFalse\u001b[39;00m:\n\u001b[0;32m--> 274\u001b[0m         \u001b[38;5;28;43mself\u001b[39;49m\u001b[38;5;241;43m.\u001b[39;49m\u001b[43m_connection\u001b[49m\u001b[38;5;241;43m.\u001b[39;49m\u001b[43mfetch_message\u001b[49m\u001b[43m(\u001b[49m\u001b[43m)\u001b[49m\n",
      "File \u001b[0;32m/Library/Frameworks/Python.framework/Versions/3.10/lib/python3.10/site-packages/neo4j/_sync/io/_common.py:180\u001b[0m, in \u001b[0;36mConnectionErrorHandler.__getattr__.<locals>.outer.<locals>.inner\u001b[0;34m(*args, **kwargs)\u001b[0m\n\u001b[1;32m    178\u001b[0m \u001b[38;5;28;01mdef\u001b[39;00m \u001b[38;5;21minner\u001b[39m(\u001b[38;5;241m*\u001b[39margs, \u001b[38;5;241m*\u001b[39m\u001b[38;5;241m*\u001b[39mkwargs):\n\u001b[1;32m    179\u001b[0m     \u001b[38;5;28;01mtry\u001b[39;00m:\n\u001b[0;32m--> 180\u001b[0m         \u001b[43mfunc\u001b[49m\u001b[43m(\u001b[49m\u001b[38;5;241;43m*\u001b[39;49m\u001b[43margs\u001b[49m\u001b[43m,\u001b[49m\u001b[43m \u001b[49m\u001b[38;5;241;43m*\u001b[39;49m\u001b[38;5;241;43m*\u001b[39;49m\u001b[43mkwargs\u001b[49m\u001b[43m)\u001b[49m\n\u001b[1;32m    181\u001b[0m     \u001b[38;5;28;01mexcept\u001b[39;00m (Neo4jError, ServiceUnavailable, SessionExpired) \u001b[38;5;28;01mas\u001b[39;00m exc:\n\u001b[1;32m    182\u001b[0m         \u001b[38;5;28;01massert\u001b[39;00m \u001b[38;5;129;01mnot\u001b[39;00m asyncio\u001b[38;5;241m.\u001b[39miscoroutinefunction(\u001b[38;5;28mself\u001b[39m\u001b[38;5;241m.\u001b[39m__on_error)\n",
      "File \u001b[0;32m/Library/Frameworks/Python.framework/Versions/3.10/lib/python3.10/site-packages/neo4j/_sync/io/_bolt.py:658\u001b[0m, in \u001b[0;36mBolt.fetch_message\u001b[0;34m(self)\u001b[0m\n\u001b[1;32m    654\u001b[0m \u001b[38;5;66;03m# Receive exactly one message\u001b[39;00m\n\u001b[1;32m    655\u001b[0m tag, fields \u001b[38;5;241m=\u001b[39m \u001b[38;5;28mself\u001b[39m\u001b[38;5;241m.\u001b[39minbox\u001b[38;5;241m.\u001b[39mpop(\n\u001b[1;32m    656\u001b[0m     hydration_hooks\u001b[38;5;241m=\u001b[39m\u001b[38;5;28mself\u001b[39m\u001b[38;5;241m.\u001b[39mresponses[\u001b[38;5;241m0\u001b[39m]\u001b[38;5;241m.\u001b[39mhydration_hooks\n\u001b[1;32m    657\u001b[0m )\n\u001b[0;32m--> 658\u001b[0m res \u001b[38;5;241m=\u001b[39m \u001b[38;5;28;43mself\u001b[39;49m\u001b[38;5;241;43m.\u001b[39;49m\u001b[43m_process_message\u001b[49m\u001b[43m(\u001b[49m\u001b[43mtag\u001b[49m\u001b[43m,\u001b[49m\u001b[43m \u001b[49m\u001b[43mfields\u001b[49m\u001b[43m)\u001b[49m\n\u001b[1;32m    659\u001b[0m \u001b[38;5;28mself\u001b[39m\u001b[38;5;241m.\u001b[39midle_since \u001b[38;5;241m=\u001b[39m perf_counter()\n\u001b[1;32m    660\u001b[0m \u001b[38;5;28;01mreturn\u001b[39;00m res\n",
      "File \u001b[0;32m/Library/Frameworks/Python.framework/Versions/3.10/lib/python3.10/site-packages/neo4j/_sync/io/_bolt5.py:317\u001b[0m, in \u001b[0;36mBolt5x0._process_message\u001b[0;34m(self, tag, fields)\u001b[0m\n\u001b[1;32m    315\u001b[0m \u001b[38;5;28mself\u001b[39m\u001b[38;5;241m.\u001b[39m_server_state_manager\u001b[38;5;241m.\u001b[39mstate \u001b[38;5;241m=\u001b[39m ServerStates\u001b[38;5;241m.\u001b[39mFAILED\n\u001b[1;32m    316\u001b[0m \u001b[38;5;28;01mtry\u001b[39;00m:\n\u001b[0;32m--> 317\u001b[0m     \u001b[43mresponse\u001b[49m\u001b[38;5;241;43m.\u001b[39;49m\u001b[43mon_failure\u001b[49m\u001b[43m(\u001b[49m\u001b[43msummary_metadata\u001b[49m\u001b[43m \u001b[49m\u001b[38;5;129;43;01mor\u001b[39;49;00m\u001b[43m \u001b[49m\u001b[43m{\u001b[49m\u001b[43m}\u001b[49m\u001b[43m)\u001b[49m\n\u001b[1;32m    318\u001b[0m \u001b[38;5;28;01mexcept\u001b[39;00m (ServiceUnavailable, DatabaseUnavailable):\n\u001b[1;32m    319\u001b[0m     \u001b[38;5;28;01mif\u001b[39;00m \u001b[38;5;28mself\u001b[39m\u001b[38;5;241m.\u001b[39mpool:\n",
      "File \u001b[0;32m/Library/Frameworks/Python.framework/Versions/3.10/lib/python3.10/site-packages/neo4j/_sync/io/_common.py:247\u001b[0m, in \u001b[0;36mResponse.on_failure\u001b[0;34m(self, metadata)\u001b[0m\n\u001b[1;32m    245\u001b[0m handler \u001b[38;5;241m=\u001b[39m \u001b[38;5;28mself\u001b[39m\u001b[38;5;241m.\u001b[39mhandlers\u001b[38;5;241m.\u001b[39mget(\u001b[38;5;124m\"\u001b[39m\u001b[38;5;124mon_summary\u001b[39m\u001b[38;5;124m\"\u001b[39m)\n\u001b[1;32m    246\u001b[0m Util\u001b[38;5;241m.\u001b[39mcallback(handler)\n\u001b[0;32m--> 247\u001b[0m \u001b[38;5;28;01mraise\u001b[39;00m Neo4jError\u001b[38;5;241m.\u001b[39mhydrate(\u001b[38;5;241m*\u001b[39m\u001b[38;5;241m*\u001b[39mmetadata)\n",
      "\u001b[0;31mDatabaseError\u001b[0m: {code: Neo.DatabaseError.Statement.ExecutionFailed} {message: Java heap space}"
     ]
    }
   ],
   "source": [
    "gds.run_cypher(f\"\"\"\n",
    "\n",
    "LOAD CSV WITH HEADERS from \"file:///PPP_Dataset.csv\" as row\n",
    "CALL {{\n",
    "\n",
    "WITH row\n",
    "\n",
    "//Node\n",
    "MATCH (source:Borrower)\n",
    "    WHERE source.BorrowerName = (row.BorrowerName)\n",
    "\n",
    "//Target Node\n",
    "MATCH (target:Loan)\n",
    "    WHERE target.LoanNumber = toInteger(row.LoanNumber)\n",
    "\n",
    "//Edges\n",
    "CREATE (source)-[r:BORROWED]->(target)\n",
    "\n",
    "}} IN TRANSACTIONS OF 1000 ROWS\n",
    "\n",
    "\"\"\")"
   ]
  },
  {
   "cell_type": "markdown",
   "id": "6d271b6f",
   "metadata": {},
   "source": [
    "### Loan -- [:RELATED_TO] --> Project"
   ]
  },
  {
   "cell_type": "code",
   "execution_count": null,
   "id": "2aac8a8a",
   "metadata": {},
   "outputs": [],
   "source": [
    "gds.run_cypher(f\"\"\"\n",
    "\n",
    "LOAD CSV WITH HEADERS from \"file:///PPP_Dataset.csv\" as row\n",
    "CALL {{\n",
    "\n",
    "WITH row\n",
    "\n",
    "//Node\n",
    "MATCH (source:Loan)\n",
    "    WHERE source.LoanNumber = toInteger(row.LoanNumber)\n",
    "\n",
    "//Target Node\n",
    "MATCH (target:Project)\n",
    "    WHERE target.ProjectCity = row.ProjectCity\n",
    "\n",
    "//Edges\n",
    "CREATE (source)-[r:RELATED_TO]->(target)\n",
    "\n",
    "}} IN TRANSACTIONS OF 10000 ROWS\n",
    "\n",
    "\"\"\")"
   ]
  },
  {
   "cell_type": "markdown",
   "id": "17c38147",
   "metadata": {},
   "source": [
    "### Loan -- [:HAS_PROCEEDS] --> Proceeds"
   ]
  },
  {
   "cell_type": "code",
   "execution_count": null,
   "id": "7f84718d",
   "metadata": {},
   "outputs": [],
   "source": [
    "gds.run_cypher(f\"\"\"\n",
    "\n",
    "LOAD CSV WITH HEADERS from \"file:///PPP_Dataset.csv\" as row\n",
    "CALL {{\n",
    "\n",
    "WITH row\n",
    "\n",
    "//Node\n",
    "MATCH (source:Loan)\n",
    "    WHERE source.LoanNumber = toInteger(row.LoanNumber)\n",
    "\n",
    "//Target Node\n",
    "MATCH (target:Proceeds)\n",
    "    WHERE target.payroll = row.payroll\n",
    "\n",
    "//Edges\n",
    "CREATE (source)-[r:HAS_PROCEEDS]->(target)\n",
    "\n",
    "}} IN TRANSACTIONS OF 10000 ROWS\n",
    "\n",
    "\"\"\")"
   ]
  },
  {
   "cell_type": "markdown",
   "id": "2c481ecb",
   "metadata": {},
   "source": [
    "### Loan -- [:HAS_STATUS] --> LoanStatus"
   ]
  },
  {
   "cell_type": "code",
   "execution_count": null,
   "id": "3de2c301",
   "metadata": {},
   "outputs": [],
   "source": [
    "gds.run_cypher(f\"\"\"\n",
    "\n",
    "LOAD CSV WITH HEADERS from \"file:///PPP_Dataset.csv\" as row\n",
    "CALL {{\n",
    "\n",
    "WITH row\n",
    "\n",
    "//Node\n",
    "MATCH (source:Loan)\n",
    "    WHERE source.LoanNumber = toInteger(row.LoanNumber)\n",
    "\n",
    "//Target Node\n",
    "MATCH (target:LoanStatus)\n",
    "    WHERE target.date = date(row.date)\n",
    "\n",
    "//Edges\n",
    "CREATE (source)-[r:HAS_STATUS]->(target)\n",
    "\n",
    "}} IN TRANSACTIONS OF 10000 ROWS\n",
    "\n",
    "\"\"\")"
   ]
  },
  {
   "cell_type": "markdown",
   "id": "13316019",
   "metadata": {},
   "source": [
    "### Loan -- [:SERVICED_BY] --> LenderServicing"
   ]
  },
  {
   "cell_type": "code",
   "execution_count": null,
   "id": "d447c257",
   "metadata": {},
   "outputs": [],
   "source": [
    "gds.run_cypher(f\"\"\"\n",
    "\n",
    "LOAD CSV WITH HEADERS from \"file:///PPP_Dataset.csv\" as row\n",
    "CALL {{\n",
    "\n",
    "WITH row\n",
    "\n",
    "//Node\n",
    "MATCH (source:Loan)\n",
    "    WHERE source.LoanNumber = toInteger(row.LoanNumber)\n",
    "\n",
    "//Target Node\n",
    "MATCH (target:LenderServicing)\n",
    "    WHERE target.locationId = row.locationId\n",
    "\n",
    "//Edges\n",
    "CREATE (source)-[r:SERVICED_BY]->(target)\n",
    "\n",
    "}} IN TRANSACTIONS OF 10000 ROWS\n",
    "\n",
    "\"\"\")"
   ]
  },
  {
   "cell_type": "markdown",
   "id": "202f8fbb",
   "metadata": {},
   "source": [
    "### Loan -- [:ORIGINATED_AT] --> LenderOriginating"
   ]
  },
  {
   "cell_type": "code",
   "execution_count": null,
   "id": "f044cbf2",
   "metadata": {},
   "outputs": [],
   "source": [
    "gds.run_cypher(f\"\"\"\n",
    "\n",
    "LOAD CSV WITH HEADERS from \"file:///PPP_Dataset.csv\" as row\n",
    "CALL {{\n",
    "\n",
    "WITH row\n",
    "\n",
    "//Node\n",
    "MATCH (source:Loan)\n",
    "    WHERE source.LoanNumber = toInteger(row.LoanNumber)\n",
    "\n",
    "//Target Node\n",
    "MATCH (target:LenderOriginating)\n",
    "    WHERE target.locationId = row.locationId\n",
    "\n",
    "//Edges\n",
    "CREATE (source)-[r:ORIGINATED_AT]->(target)\n",
    "\n",
    "}} IN TRANSACTIONS OF 10000 ROWS\n",
    "\n",
    "\"\"\")"
   ]
  },
  {
   "cell_type": "markdown",
   "id": "20e58514",
   "metadata": {},
   "source": [
    "### Borrower -- [:DEMOGRAPHICS] --> Demographics"
   ]
  },
  {
   "cell_type": "code",
   "execution_count": null,
   "id": "bc18610a",
   "metadata": {},
   "outputs": [],
   "source": [
    "gds.run_cypher(f\"\"\"\n",
    "\n",
    "LOAD CSV WITH HEADERS from \"file:///PPP_Dataset.csv\" as row\n",
    "CALL {{\n",
    "\n",
    "WITH row\n",
    "\n",
    "//Node\n",
    "MATCH (source:Borrower)\n",
    "    WHERE source.BorrowerName = row.BorrowerName\n",
    "\n",
    "//Target Node\n",
    "MATCH (target:Demographics)\n",
    "    WHERE target.race = row.race\n",
    "\n",
    "//Edges\n",
    "CREATE (source)-[r:DEMOGRAPHICS]->(target)\n",
    "\n",
    "}} IN TRANSACTIONS OF 10000 ROWS\n",
    "\n",
    "\"\"\")"
   ]
  },
  {
   "cell_type": "markdown",
   "id": "c4f07894",
   "metadata": {},
   "source": [
    "### Borrower -- [:HAS_ADDRESS] --> AddressBorrower"
   ]
  },
  {
   "cell_type": "code",
   "execution_count": null,
   "id": "f44d0e7c",
   "metadata": {},
   "outputs": [],
   "source": [
    "gds.run_cypher(f\"\"\"\n",
    "\n",
    "LOAD CSV WITH HEADERS from \"file:///PPP_Dataset.csv\" as row\n",
    "CALL {{\n",
    "\n",
    "WITH row\n",
    "\n",
    "//Node\n",
    "MATCH (source:Borrower)\n",
    "    WHERE source.BorrowerName = row.BorrowerName\n",
    "\n",
    "//Target Node\n",
    "MATCH (target:AddressBorrower)\n",
    "    WHERE target.zip = row.zip\n",
    "\n",
    "//Edges\n",
    "CREATE (source)-[r:HAS_ADDRESS]->(target)\n",
    "\n",
    "}} IN TRANSACTIONS OF 10000 ROWS\n",
    "\n",
    "\"\"\")"
   ]
  },
  {
   "cell_type": "markdown",
   "id": "0ec534ed",
   "metadata": {},
   "source": [
    "### LenderOriginating -- [:HAS_ADDRESS] --> AddressLenderOriginating"
   ]
  },
  {
   "cell_type": "code",
   "execution_count": null,
   "id": "356d482e",
   "metadata": {},
   "outputs": [],
   "source": [
    "gds.run_cypher(f\"\"\"\n",
    "\n",
    "LOAD CSV WITH HEADERS from \"file:///PPP_Dataset.csv\" as row\n",
    "CALL {{\n",
    "\n",
    "WITH row\n",
    "\n",
    "//Node\n",
    "MATCH (source:LenderOriginating)\n",
    "    WHERE source.locationId = row.locationId\n",
    "\n",
    "//Target Node\n",
    "MATCH (target:AddressLenderOriginating)\n",
    "    WHERE target.zip = row.zip\n",
    "\n",
    "//Edges\n",
    "CREATE (source)-[r:HAS_ADDRESS]->(target)\n",
    "\n",
    "}} IN TRANSACTIONS OF 10000 ROWS\n",
    "\n",
    "\"\"\")"
   ]
  },
  {
   "cell_type": "markdown",
   "id": "1f6acc82",
   "metadata": {},
   "source": [
    "### LenderServicing -- [:HAS_ADDRESS] --> AddressLenderServicing"
   ]
  },
  {
   "cell_type": "code",
   "execution_count": null,
   "id": "533ddbc1",
   "metadata": {},
   "outputs": [],
   "source": [
    "gds.run_cypher(f\"\"\"\n",
    "\n",
    "LOAD CSV WITH HEADERS from \"file:///PPP_Dataset.csv\" as row\n",
    "CALL {{\n",
    "\n",
    "WITH row\n",
    "\n",
    "//Node\n",
    "MATCH (source:LenderServicing)\n",
    "    WHERE source.locationId = row.locationId\n",
    "\n",
    "//Target Node\n",
    "MATCH (target:AddressLenderServicing)\n",
    "    WHERE target.zip = row.zip\n",
    "\n",
    "//Edges\n",
    "CREATE (source)-[r:HAS_ADDRESS]->(target)\n",
    "\n",
    "}} IN TRANSACTIONS OF 10000 ROWS\n",
    "\n",
    "\"\"\")"
   ]
  }
 ],
 "metadata": {
  "kernelspec": {
   "display_name": "Python 3 (ipykernel)",
   "language": "python",
   "name": "python3"
  },
  "language_info": {
   "codemirror_mode": {
    "name": "ipython",
    "version": 3
   },
   "file_extension": ".py",
   "mimetype": "text/x-python",
   "name": "python",
   "nbconvert_exporter": "python",
   "pygments_lexer": "ipython3",
   "version": "3.10.6"
  }
 },
 "nbformat": 4,
 "nbformat_minor": 5
}
